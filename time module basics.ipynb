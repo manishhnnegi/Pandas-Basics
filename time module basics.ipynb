{
 "cells": [
  {
   "cell_type": "code",
   "execution_count": 1,
   "id": "47ba745e",
   "metadata": {},
   "outputs": [],
   "source": [
    "import time\n",
    "import pandas as pd"
   ]
  },
  {
   "cell_type": "code",
   "execution_count": 5,
   "id": "8a82b5b3",
   "metadata": {},
   "outputs": [
    {
     "data": {
      "text/plain": [
       "1654176819.7279088"
      ]
     },
     "execution_count": 5,
     "metadata": {},
     "output_type": "execute_result"
    }
   ],
   "source": [
    "initial  =  time.time()\n",
    "initial"
   ]
  },
  {
   "cell_type": "code",
   "execution_count": 9,
   "id": "7dd080a2",
   "metadata": {},
   "outputs": [
    {
     "name": "stdout",
     "output_type": "stream",
     "text": [
      "0\n",
      "1\n",
      "2\n",
      "3\n",
      "4\n",
      "5\n",
      "6\n",
      "7\n",
      "8\n",
      "9\n",
      "10\n",
      "11\n",
      "12\n",
      "13\n",
      "14\n",
      "15\n",
      "16\n",
      "17\n",
      "18\n",
      "19\n",
      "20\n",
      "21\n",
      "22\n",
      "23\n",
      "24\n",
      "25\n",
      "26\n",
      "27\n",
      "28\n",
      "29\n",
      "0.0029993057250976562\n"
     ]
    }
   ],
   "source": [
    "initial  =  time.time()\n",
    "for i in range(30):\n",
    "    print(i)\n",
    "print(time.time()- initial)"
   ]
  },
  {
   "cell_type": "code",
   "execution_count": null,
   "id": "bd392934",
   "metadata": {},
   "outputs": [],
   "source": [
    "#Python dates and times: datetime and"
   ]
  },
  {
   "cell_type": "code",
   "execution_count": 11,
   "id": "47297e88",
   "metadata": {},
   "outputs": [],
   "source": [
    "import datetime"
   ]
  },
  {
   "cell_type": "code",
   "execution_count": 18,
   "id": "f51fa2a9",
   "metadata": {},
   "outputs": [
    {
     "data": {
      "text/plain": [
       "datetime.datetime(2015, 7, 4, 0, 0)"
      ]
     },
     "execution_count": 18,
     "metadata": {},
     "output_type": "execute_result"
    }
   ],
   "source": [
    "x = datetime.datetime(year=2015, month=7, day=4)\n",
    "x"
   ]
  },
  {
   "cell_type": "code",
   "execution_count": 19,
   "id": "94e940c3",
   "metadata": {},
   "outputs": [
    {
     "data": {
      "text/plain": [
       "'Saturday'"
      ]
     },
     "execution_count": 19,
     "metadata": {},
     "output_type": "execute_result"
    }
   ],
   "source": [
    "x.strftime('%A')"
   ]
  },
  {
   "cell_type": "code",
   "execution_count": 14,
   "id": "37b5abaf",
   "metadata": {
    "scrolled": true
   },
   "outputs": [
    {
     "data": {
      "text/plain": [
       "datetime.datetime(2015, 7, 4, 0, 0)"
      ]
     },
     "execution_count": 14,
     "metadata": {},
     "output_type": "execute_result"
    }
   ],
   "source": [
    "from dateutil import parser\n",
    "date = parser.parse(\"4th of July, 2015\")\n",
    "date"
   ]
  },
  {
   "cell_type": "code",
   "execution_count": 15,
   "id": "86d0f968",
   "metadata": {},
   "outputs": [
    {
     "data": {
      "text/plain": [
       "'Saturday'"
      ]
     },
     "execution_count": 15,
     "metadata": {},
     "output_type": "execute_result"
    }
   ],
   "source": [
    "date.strftime('%A')"
   ]
  },
  {
   "cell_type": "code",
   "execution_count": 20,
   "id": "3d6da351",
   "metadata": {},
   "outputs": [],
   "source": [
    "#in numpy"
   ]
  },
  {
   "cell_type": "code",
   "execution_count": 21,
   "id": "a252205d",
   "metadata": {},
   "outputs": [],
   "source": [
    "import numpy as np"
   ]
  },
  {
   "cell_type": "code",
   "execution_count": 24,
   "id": "5aa8540c",
   "metadata": {},
   "outputs": [
    {
     "data": {
      "text/plain": [
       "array('2015-07-04', dtype='datetime64[D]')"
      ]
     },
     "execution_count": 24,
     "metadata": {},
     "output_type": "execute_result"
    }
   ],
   "source": [
    "import numpy as np\n",
    "date = np.array('2015-07-04', dtype=np.datetime64)\n",
    "date"
   ]
  },
  {
   "cell_type": "code",
   "execution_count": 25,
   "id": "cf254f20",
   "metadata": {},
   "outputs": [
    {
     "data": {
      "text/plain": [
       "array(['2015-07-04', '2015-07-05', '2015-07-06', '2015-07-07',\n",
       "       '2015-07-08', '2015-07-09', '2015-07-10', '2015-07-11',\n",
       "       '2015-07-12', '2015-07-13', '2015-07-14', '2015-07-15'],\n",
       "      dtype='datetime64[D]')"
      ]
     },
     "execution_count": 25,
     "metadata": {},
     "output_type": "execute_result"
    }
   ],
   "source": [
    "date + np.arange(12)"
   ]
  },
  {
   "cell_type": "code",
   "execution_count": 27,
   "id": "521ad99e",
   "metadata": {},
   "outputs": [
    {
     "data": {
      "text/plain": [
       "numpy.datetime64('2015-07-04')"
      ]
     },
     "execution_count": 27,
     "metadata": {},
     "output_type": "execute_result"
    }
   ],
   "source": [
    "np.datetime64('2015-07-04')"
   ]
  },
  {
   "cell_type": "code",
   "execution_count": 28,
   "id": "8a470110",
   "metadata": {},
   "outputs": [
    {
     "data": {
      "text/plain": [
       "numpy.datetime64('2015-07-04T12:00')"
      ]
     },
     "execution_count": 28,
     "metadata": {},
     "output_type": "execute_result"
    }
   ],
   "source": [
    "np.datetime64('2015-07-04 12:00')"
   ]
  },
  {
   "cell_type": "code",
   "execution_count": 29,
   "id": "b29c7561",
   "metadata": {},
   "outputs": [],
   "source": [
    "#in pandaas"
   ]
  },
  {
   "cell_type": "code",
   "execution_count": 30,
   "id": "9892f562",
   "metadata": {},
   "outputs": [],
   "source": [
    "import pandas as pd"
   ]
  },
  {
   "cell_type": "code",
   "execution_count": 46,
   "id": "35f1d771",
   "metadata": {},
   "outputs": [
    {
     "data": {
      "text/plain": [
       "Timestamp('2021-03-06 00:00:00')"
      ]
     },
     "execution_count": 46,
     "metadata": {},
     "output_type": "execute_result"
    }
   ],
   "source": [
    "a =pd.to_datetime('03-06-2021')\n",
    "a"
   ]
  },
  {
   "cell_type": "code",
   "execution_count": 43,
   "id": "cbd4ef6b",
   "metadata": {},
   "outputs": [
    {
     "data": {
      "text/plain": [
       "Timestamp('2015-07-04 00:00:00')"
      ]
     },
     "execution_count": 43,
     "metadata": {},
     "output_type": "execute_result"
    }
   ],
   "source": [
    "\n",
    "a =pd.to_datetime(\"4th of July, 2015\")\n",
    "a"
   ]
  },
  {
   "cell_type": "code",
   "execution_count": 47,
   "id": "faaa084a",
   "metadata": {},
   "outputs": [
    {
     "data": {
      "text/plain": [
       "'Saturday'"
      ]
     },
     "execution_count": 47,
     "metadata": {},
     "output_type": "execute_result"
    }
   ],
   "source": [
    "a.strftime('%A')"
   ]
  },
  {
   "cell_type": "code",
   "execution_count": 48,
   "id": "1166e88e",
   "metadata": {},
   "outputs": [
    {
     "data": {
      "text/plain": [
       "DatetimeIndex(['2021-03-06', '2021-03-07', '2021-03-08', '2021-03-09',\n",
       "               '2021-03-10', '2021-03-11', '2021-03-12', '2021-03-13',\n",
       "               '2021-03-14', '2021-03-15', '2021-03-16', '2021-03-17'],\n",
       "              dtype='datetime64[ns]', freq=None)"
      ]
     },
     "execution_count": 48,
     "metadata": {},
     "output_type": "execute_result"
    }
   ],
   "source": [
    "a + pd.to_timedelta(np.arange(12), 'D')"
   ]
  },
  {
   "cell_type": "code",
   "execution_count": 54,
   "id": "eab08650",
   "metadata": {},
   "outputs": [
    {
     "data": {
      "text/plain": [
       "2014-07-04    0\n",
       "2014-08-04    1\n",
       "2015-07-04    2\n",
       "2015-08-04    3\n",
       "dtype: int64"
      ]
     },
     "execution_count": 54,
     "metadata": {},
     "output_type": "execute_result"
    }
   ],
   "source": [
    "#time indexing\n",
    "index = pd.DatetimeIndex(['2014-07-04', '2014-08-04',\n",
    "                          '2015-07-04', '2015-08-04'])\n",
    "data = pd.Series([0, 1, 2, 3], index=index)\n",
    "data"
   ]
  },
  {
   "cell_type": "code",
   "execution_count": 50,
   "id": "d9ac1975",
   "metadata": {},
   "outputs": [
    {
     "data": {
      "text/plain": [
       "2014-07-04    0\n",
       "2014-08-04    1\n",
       "2015-07-04    2\n",
       "dtype: int64"
      ]
     },
     "execution_count": 50,
     "metadata": {},
     "output_type": "execute_result"
    }
   ],
   "source": [
    "data['2014-07-04':'2015-07-04']"
   ]
  },
  {
   "cell_type": "code",
   "execution_count": 53,
   "id": "7e442075",
   "metadata": {},
   "outputs": [
    {
     "data": {
      "text/html": [
       "<div>\n",
       "<style scoped>\n",
       "    .dataframe tbody tr th:only-of-type {\n",
       "        vertical-align: middle;\n",
       "    }\n",
       "\n",
       "    .dataframe tbody tr th {\n",
       "        vertical-align: top;\n",
       "    }\n",
       "\n",
       "    .dataframe thead th {\n",
       "        text-align: right;\n",
       "    }\n",
       "</style>\n",
       "<table border=\"1\" class=\"dataframe\">\n",
       "  <thead>\n",
       "    <tr style=\"text-align: right;\">\n",
       "      <th></th>\n",
       "      <th>0</th>\n",
       "    </tr>\n",
       "  </thead>\n",
       "  <tbody>\n",
       "    <tr>\n",
       "      <th>2014-07-04</th>\n",
       "      <td>0</td>\n",
       "    </tr>\n",
       "    <tr>\n",
       "      <th>2014-08-04</th>\n",
       "      <td>1</td>\n",
       "    </tr>\n",
       "    <tr>\n",
       "      <th>2015-07-04</th>\n",
       "      <td>2</td>\n",
       "    </tr>\n",
       "    <tr>\n",
       "      <th>2015-08-04</th>\n",
       "      <td>3</td>\n",
       "    </tr>\n",
       "  </tbody>\n",
       "</table>\n",
       "</div>"
      ],
      "text/plain": [
       "            0\n",
       "2014-07-04  0\n",
       "2014-08-04  1\n",
       "2015-07-04  2\n",
       "2015-08-04  3"
      ]
     },
     "execution_count": 53,
     "metadata": {},
     "output_type": "execute_result"
    }
   ],
   "source": [
    "df = pd.DataFrame(data)\n",
    "df"
   ]
  },
  {
   "cell_type": "code",
   "execution_count": 56,
   "id": "0a578893",
   "metadata": {},
   "outputs": [
    {
     "data": {
      "text/plain": [
       "DatetimeIndex(['2015-07-04', '2015-07-06', '2015-07-07', '2015-07-08'], dtype='datetime64[ns]', freq=None)"
      ]
     },
     "execution_count": 56,
     "metadata": {},
     "output_type": "execute_result"
    }
   ],
   "source": [
    "dates = pd.to_datetime([ '4th of July, 2015',\n",
    "                       '2015-Jul-6', '07-07-2015', '20150708'])\n",
    "dates"
   ]
  },
  {
   "cell_type": "code",
   "execution_count": 57,
   "id": "8b1429a0",
   "metadata": {},
   "outputs": [
    {
     "data": {
      "text/plain": [
       "DatetimeIndex(['2015-07-03', '2015-07-04', '2015-07-05', '2015-07-06',\n",
       "               '2015-07-07', '2015-07-08', '2015-07-09', '2015-07-10'],\n",
       "              dtype='datetime64[ns]', freq='D')"
      ]
     },
     "execution_count": 57,
     "metadata": {},
     "output_type": "execute_result"
    }
   ],
   "source": [
    "pd.date_range('2015-07-03', '2015-07-10')"
   ]
  },
  {
   "cell_type": "code",
   "execution_count": 58,
   "id": "6951b5c1",
   "metadata": {},
   "outputs": [
    {
     "data": {
      "text/plain": [
       "DatetimeIndex(['2015-07-03 00:00:00', '2015-07-03 01:00:00',\n",
       "               '2015-07-03 02:00:00', '2015-07-03 03:00:00',\n",
       "               '2015-07-03 04:00:00', '2015-07-03 05:00:00',\n",
       "               '2015-07-03 06:00:00', '2015-07-03 07:00:00'],\n",
       "              dtype='datetime64[ns]', freq='H')"
      ]
     },
     "execution_count": 58,
     "metadata": {},
     "output_type": "execute_result"
    }
   ],
   "source": [
    "pd.date_range('2015-07-03', periods=8, freq='H')"
   ]
  },
  {
   "cell_type": "code",
   "execution_count": 63,
   "id": "8350f55d",
   "metadata": {},
   "outputs": [
    {
     "data": {
      "text/plain": [
       "DatetimeIndex(['2018-01-01', '2018-01-01', '2018-01-01'], dtype='datetime64[ns]', freq=None)"
      ]
     },
     "execution_count": 63,
     "metadata": {},
     "output_type": "execute_result"
    }
   ],
   "source": [
    "#Parsing time series information from various sources and formats\n",
    "import datetime\n",
    "\n",
    "dti = pd.to_datetime([\"1/1/2018\", np.datetime64(\"2018-01-01\"), datetime.datetime(2018, 1, 1)])\n",
    "dti"
   ]
  },
  {
   "cell_type": "code",
   "execution_count": 64,
   "id": "883adc42",
   "metadata": {},
   "outputs": [
    {
     "data": {
      "text/plain": [
       "Timestamp('2018-01-01 00:00:00')"
      ]
     },
     "execution_count": 64,
     "metadata": {},
     "output_type": "execute_result"
    }
   ],
   "source": [
    "dti[0]"
   ]
  },
  {
   "cell_type": "code",
   "execution_count": 65,
   "id": "45714eaa",
   "metadata": {},
   "outputs": [
    {
     "data": {
      "text/plain": [
       "datetime.datetime(2018, 1, 1, 0, 0)"
      ]
     },
     "execution_count": 65,
     "metadata": {},
     "output_type": "execute_result"
    }
   ],
   "source": [
    "datetime.datetime(2018, 1, 1)"
   ]
  },
  {
   "cell_type": "code",
   "execution_count": 66,
   "id": "a83ae405",
   "metadata": {},
   "outputs": [],
   "source": [
    "day = pd.Timestamp(\"2018-01-05\")"
   ]
  },
  {
   "cell_type": "code",
   "execution_count": 67,
   "id": "a83fa4ab",
   "metadata": {},
   "outputs": [
    {
     "data": {
      "text/plain": [
       "'Friday'"
      ]
     },
     "execution_count": 67,
     "metadata": {},
     "output_type": "execute_result"
    }
   ],
   "source": [
    "day.day_name()"
   ]
  },
  {
   "cell_type": "code",
   "execution_count": 71,
   "id": "2de4f119",
   "metadata": {},
   "outputs": [
    {
     "data": {
      "text/plain": [
       "'Saturday'"
      ]
     },
     "execution_count": 71,
     "metadata": {},
     "output_type": "execute_result"
    }
   ],
   "source": [
    "#Add 1 day\n",
    "nextday = day + pd.Timedelta(\"1 day\")\n",
    "nextday.day_name()"
   ]
  },
  {
   "cell_type": "code",
   "execution_count": 72,
   "id": "f5089fd0",
   "metadata": {},
   "outputs": [
    {
     "name": "stdout",
     "output_type": "stream",
     "text": [
      "DatetimeIndex(['2019-01-01 00:00:00', '2019-01-01 00:01:00',\n",
      "               '2019-01-01 00:02:00', '2019-01-01 00:03:00',\n",
      "               '2019-01-01 00:04:00', '2019-01-01 00:05:00',\n",
      "               '2019-01-01 00:06:00', '2019-01-01 00:07:00',\n",
      "               '2019-01-01 00:08:00', '2019-01-01 00:09:00',\n",
      "               ...\n",
      "               '2019-01-07 23:51:00', '2019-01-07 23:52:00',\n",
      "               '2019-01-07 23:53:00', '2019-01-07 23:54:00',\n",
      "               '2019-01-07 23:55:00', '2019-01-07 23:56:00',\n",
      "               '2019-01-07 23:57:00', '2019-01-07 23:58:00',\n",
      "               '2019-01-07 23:59:00', '2019-01-08 00:00:00'],\n",
      "              dtype='datetime64[ns]', length=10081, freq='T')\n"
     ]
    }
   ],
   "source": [
    "import pandas as pd\n",
    "from datetime import datetime\n",
    "import numpy as np\n",
    "\n",
    "range_date = pd.date_range(start ='1/1/2019', end ='1/08/2019',\n",
    "\t\t\t\t\t\t\t\t\t\t\t\tfreq ='Min')\n",
    "print(range_date)\n"
   ]
  },
  {
   "cell_type": "code",
   "execution_count": 73,
   "id": "c8b61dd8",
   "metadata": {},
   "outputs": [
    {
     "name": "stdout",
     "output_type": "stream",
     "text": [
      "                 date  data\n",
      "0 2019-01-01 00:00:00    10\n",
      "1 2019-01-01 00:01:00     1\n",
      "2 2019-01-01 00:02:00    39\n",
      "3 2019-01-01 00:03:00    40\n",
      "4 2019-01-01 00:04:00     6\n",
      "5 2019-01-01 00:05:00    75\n",
      "6 2019-01-01 00:06:00    92\n",
      "7 2019-01-01 00:07:00     2\n",
      "8 2019-01-01 00:08:00    22\n",
      "9 2019-01-01 00:09:00    78\n"
     ]
    }
   ],
   "source": [
    "import pandas as pd\n",
    "from datetime import datetime\n",
    "import numpy as np\n",
    "\n",
    "range_date = pd.date_range(start ='1/1/2019', end ='1/08/2019',\n",
    "\t\t\t\t\t\t\t\t\t\t\t\tfreq ='Min')\n",
    "\n",
    "df = pd.DataFrame(range_date, columns =['date'])\n",
    "df['data'] = np.random.randint(0, 100, size =(len(range_date)))\n",
    "\n",
    "print(df.head(10))\n"
   ]
  },
  {
   "cell_type": "code",
   "execution_count": 74,
   "id": "d36207d6",
   "metadata": {},
   "outputs": [
    {
     "data": {
      "text/html": [
       "<div>\n",
       "<style scoped>\n",
       "    .dataframe tbody tr th:only-of-type {\n",
       "        vertical-align: middle;\n",
       "    }\n",
       "\n",
       "    .dataframe tbody tr th {\n",
       "        vertical-align: top;\n",
       "    }\n",
       "\n",
       "    .dataframe thead th {\n",
       "        text-align: right;\n",
       "    }\n",
       "</style>\n",
       "<table border=\"1\" class=\"dataframe\">\n",
       "  <thead>\n",
       "    <tr style=\"text-align: right;\">\n",
       "      <th></th>\n",
       "      <th>date</th>\n",
       "      <th>data</th>\n",
       "    </tr>\n",
       "  </thead>\n",
       "  <tbody>\n",
       "    <tr>\n",
       "      <th>0</th>\n",
       "      <td>2019-01-01 00:00:00</td>\n",
       "      <td>10</td>\n",
       "    </tr>\n",
       "    <tr>\n",
       "      <th>1</th>\n",
       "      <td>2019-01-01 00:01:00</td>\n",
       "      <td>1</td>\n",
       "    </tr>\n",
       "    <tr>\n",
       "      <th>2</th>\n",
       "      <td>2019-01-01 00:02:00</td>\n",
       "      <td>39</td>\n",
       "    </tr>\n",
       "    <tr>\n",
       "      <th>3</th>\n",
       "      <td>2019-01-01 00:03:00</td>\n",
       "      <td>40</td>\n",
       "    </tr>\n",
       "    <tr>\n",
       "      <th>4</th>\n",
       "      <td>2019-01-01 00:04:00</td>\n",
       "      <td>6</td>\n",
       "    </tr>\n",
       "    <tr>\n",
       "      <th>...</th>\n",
       "      <td>...</td>\n",
       "      <td>...</td>\n",
       "    </tr>\n",
       "    <tr>\n",
       "      <th>10076</th>\n",
       "      <td>2019-01-07 23:56:00</td>\n",
       "      <td>32</td>\n",
       "    </tr>\n",
       "    <tr>\n",
       "      <th>10077</th>\n",
       "      <td>2019-01-07 23:57:00</td>\n",
       "      <td>27</td>\n",
       "    </tr>\n",
       "    <tr>\n",
       "      <th>10078</th>\n",
       "      <td>2019-01-07 23:58:00</td>\n",
       "      <td>98</td>\n",
       "    </tr>\n",
       "    <tr>\n",
       "      <th>10079</th>\n",
       "      <td>2019-01-07 23:59:00</td>\n",
       "      <td>75</td>\n",
       "    </tr>\n",
       "    <tr>\n",
       "      <th>10080</th>\n",
       "      <td>2019-01-08 00:00:00</td>\n",
       "      <td>41</td>\n",
       "    </tr>\n",
       "  </tbody>\n",
       "</table>\n",
       "<p>10081 rows × 2 columns</p>\n",
       "</div>"
      ],
      "text/plain": [
       "                     date  data\n",
       "0     2019-01-01 00:00:00    10\n",
       "1     2019-01-01 00:01:00     1\n",
       "2     2019-01-01 00:02:00    39\n",
       "3     2019-01-01 00:03:00    40\n",
       "4     2019-01-01 00:04:00     6\n",
       "...                   ...   ...\n",
       "10076 2019-01-07 23:56:00    32\n",
       "10077 2019-01-07 23:57:00    27\n",
       "10078 2019-01-07 23:58:00    98\n",
       "10079 2019-01-07 23:59:00    75\n",
       "10080 2019-01-08 00:00:00    41\n",
       "\n",
       "[10081 rows x 2 columns]"
      ]
     },
     "execution_count": 74,
     "metadata": {},
     "output_type": "execute_result"
    }
   ],
   "source": [
    "df"
   ]
  },
  {
   "cell_type": "raw",
   "id": "c698b59a",
   "metadata": {},
   "source": []
  },
  {
   "cell_type": "code",
   "execution_count": 82,
   "id": "429fcd1a",
   "metadata": {
    "scrolled": false
   },
   "outputs": [
    {
     "data": {
      "text/html": [
       "<div>\n",
       "<style scoped>\n",
       "    .dataframe tbody tr th:only-of-type {\n",
       "        vertical-align: middle;\n",
       "    }\n",
       "\n",
       "    .dataframe tbody tr th {\n",
       "        vertical-align: top;\n",
       "    }\n",
       "\n",
       "    .dataframe thead th {\n",
       "        text-align: right;\n",
       "    }\n",
       "</style>\n",
       "<table border=\"1\" class=\"dataframe\">\n",
       "  <thead>\n",
       "    <tr style=\"text-align: right;\">\n",
       "      <th></th>\n",
       "      <th>data</th>\n",
       "    </tr>\n",
       "    <tr>\n",
       "      <th>date</th>\n",
       "      <th></th>\n",
       "    </tr>\n",
       "  </thead>\n",
       "  <tbody>\n",
       "    <tr>\n",
       "      <th>2019-01-01 00:00:00</th>\n",
       "      <td>10</td>\n",
       "    </tr>\n",
       "    <tr>\n",
       "      <th>2019-01-01 00:01:00</th>\n",
       "      <td>1</td>\n",
       "    </tr>\n",
       "    <tr>\n",
       "      <th>2019-01-01 00:02:00</th>\n",
       "      <td>39</td>\n",
       "    </tr>\n",
       "    <tr>\n",
       "      <th>2019-01-01 00:03:00</th>\n",
       "      <td>40</td>\n",
       "    </tr>\n",
       "    <tr>\n",
       "      <th>2019-01-01 00:04:00</th>\n",
       "      <td>6</td>\n",
       "    </tr>\n",
       "    <tr>\n",
       "      <th>...</th>\n",
       "      <td>...</td>\n",
       "    </tr>\n",
       "    <tr>\n",
       "      <th>2019-01-07 23:56:00</th>\n",
       "      <td>32</td>\n",
       "    </tr>\n",
       "    <tr>\n",
       "      <th>2019-01-07 23:57:00</th>\n",
       "      <td>27</td>\n",
       "    </tr>\n",
       "    <tr>\n",
       "      <th>2019-01-07 23:58:00</th>\n",
       "      <td>98</td>\n",
       "    </tr>\n",
       "    <tr>\n",
       "      <th>2019-01-07 23:59:00</th>\n",
       "      <td>75</td>\n",
       "    </tr>\n",
       "    <tr>\n",
       "      <th>2019-01-08 00:00:00</th>\n",
       "      <td>41</td>\n",
       "    </tr>\n",
       "  </tbody>\n",
       "</table>\n",
       "<p>10081 rows × 1 columns</p>\n",
       "</div>"
      ],
      "text/plain": [
       "                     data\n",
       "date                     \n",
       "2019-01-01 00:00:00    10\n",
       "2019-01-01 00:01:00     1\n",
       "2019-01-01 00:02:00    39\n",
       "2019-01-01 00:03:00    40\n",
       "2019-01-01 00:04:00     6\n",
       "...                   ...\n",
       "2019-01-07 23:56:00    32\n",
       "2019-01-07 23:57:00    27\n",
       "2019-01-07 23:58:00    98\n",
       "2019-01-07 23:59:00    75\n",
       "2019-01-08 00:00:00    41\n",
       "\n",
       "[10081 rows x 1 columns]"
      ]
     },
     "execution_count": 82,
     "metadata": {},
     "output_type": "execute_result"
    }
   ],
   "source": [
    "df.set_index('date')"
   ]
  },
  {
   "cell_type": "code",
   "execution_count": 87,
   "id": "2dfcf920",
   "metadata": {},
   "outputs": [
    {
     "name": "stdout",
     "output_type": "stream",
     "text": [
      "        date  data\n",
      "0 2019-01-01    13\n",
      "1 2019-01-02    66\n",
      "2 2019-01-03     9\n",
      "3 2019-01-04    40\n",
      "4 2019-01-05    92\n",
      "5 2019-01-06    18\n",
      "6 2019-01-07    96\n",
      "7 2019-01-08    82\n"
     ]
    }
   ],
   "source": [
    "import pandas as pd\n",
    "from datetime import datetime\n",
    "import numpy as np\n",
    "\n",
    "range_date = pd.date_range(start ='1/1/2019', end ='1/08/2019',\n",
    "\t\t\t\t\t\t\t\t\t\t\t\t)\n",
    "\n",
    "df = pd.DataFrame(range_date, columns =['date'])\n",
    "df['data'] = np.random.randint(0, 100, size =(len(range_date)))\n",
    "\n",
    "print(df.head(10))\n"
   ]
  },
  {
   "cell_type": "code",
   "execution_count": 89,
   "id": "dc7e2818",
   "metadata": {},
   "outputs": [
    {
     "ename": "AttributeError",
     "evalue": "'Series' object has no attribute 'day'",
     "output_type": "error",
     "traceback": [
      "\u001b[1;31m---------------------------------------------------------------------------\u001b[0m",
      "\u001b[1;31mAttributeError\u001b[0m                            Traceback (most recent call last)",
      "\u001b[1;32m~\\AppData\\Local\\Temp/ipykernel_1056/231249513.py\u001b[0m in \u001b[0;36m<module>\u001b[1;34m\u001b[0m\n\u001b[1;32m----> 1\u001b[1;33m \u001b[0mdf\u001b[0m\u001b[1;33m[\u001b[0m\u001b[1;34m'date'\u001b[0m\u001b[1;33m]\u001b[0m\u001b[1;33m.\u001b[0m\u001b[0mday\u001b[0m\u001b[1;33m(\u001b[0m\u001b[1;33m)\u001b[0m\u001b[1;33m\u001b[0m\u001b[1;33m\u001b[0m\u001b[0m\n\u001b[0m",
      "\u001b[1;32m~\\anaconda3\\lib\\site-packages\\pandas\\core\\generic.py\u001b[0m in \u001b[0;36m__getattr__\u001b[1;34m(self, name)\u001b[0m\n\u001b[0;32m   5485\u001b[0m         ):\n\u001b[0;32m   5486\u001b[0m             \u001b[1;32mreturn\u001b[0m \u001b[0mself\u001b[0m\u001b[1;33m[\u001b[0m\u001b[0mname\u001b[0m\u001b[1;33m]\u001b[0m\u001b[1;33m\u001b[0m\u001b[1;33m\u001b[0m\u001b[0m\n\u001b[1;32m-> 5487\u001b[1;33m         \u001b[1;32mreturn\u001b[0m \u001b[0mobject\u001b[0m\u001b[1;33m.\u001b[0m\u001b[0m__getattribute__\u001b[0m\u001b[1;33m(\u001b[0m\u001b[0mself\u001b[0m\u001b[1;33m,\u001b[0m \u001b[0mname\u001b[0m\u001b[1;33m)\u001b[0m\u001b[1;33m\u001b[0m\u001b[1;33m\u001b[0m\u001b[0m\n\u001b[0m\u001b[0;32m   5488\u001b[0m \u001b[1;33m\u001b[0m\u001b[0m\n\u001b[0;32m   5489\u001b[0m     \u001b[1;32mdef\u001b[0m \u001b[0m__setattr__\u001b[0m\u001b[1;33m(\u001b[0m\u001b[0mself\u001b[0m\u001b[1;33m,\u001b[0m \u001b[0mname\u001b[0m\u001b[1;33m:\u001b[0m \u001b[0mstr\u001b[0m\u001b[1;33m,\u001b[0m \u001b[0mvalue\u001b[0m\u001b[1;33m)\u001b[0m \u001b[1;33m->\u001b[0m \u001b[1;32mNone\u001b[0m\u001b[1;33m:\u001b[0m\u001b[1;33m\u001b[0m\u001b[1;33m\u001b[0m\u001b[0m\n",
      "\u001b[1;31mAttributeError\u001b[0m: 'Series' object has no attribute 'day'"
     ]
    }
   ],
   "source": [
    "df['date']."
   ]
  },
  {
   "cell_type": "code",
   "execution_count": 2,
   "id": "f648290b",
   "metadata": {},
   "outputs": [],
   "source": [
    "#https://www.dataquest.io/blog/tutorial-time-series-analysis-with-pandas/"
   ]
  },
  {
   "cell_type": "code",
   "execution_count": 3,
   "id": "b9d4f638",
   "metadata": {},
   "outputs": [],
   "source": [
    "import datetime as d\n",
    "import pandas as pd"
   ]
  },
  {
   "cell_type": "code",
   "execution_count": 22,
   "id": "56c8a51e",
   "metadata": {},
   "outputs": [
    {
     "data": {
      "text/plain": [
       "datetime.datetime(2022, 6, 2, 21, 20, 35, 352211)"
      ]
     },
     "execution_count": 22,
     "metadata": {},
     "output_type": "execute_result"
    }
   ],
   "source": [
    "tody = d.datetime.today()\n",
    "tody"
   ]
  },
  {
   "cell_type": "code",
   "execution_count": 14,
   "id": "ca960905",
   "metadata": {},
   "outputs": [
    {
     "data": {
      "text/plain": [
       "3"
      ]
     },
     "execution_count": 14,
     "metadata": {},
     "output_type": "execute_result"
    }
   ],
   "source": [
    "d.datetime.today().weekday()"
   ]
  },
  {
   "cell_type": "code",
   "execution_count": 17,
   "id": "b1446fc8",
   "metadata": {},
   "outputs": [
    {
     "data": {
      "text/plain": [
       "6"
      ]
     },
     "execution_count": 17,
     "metadata": {},
     "output_type": "execute_result"
    }
   ],
   "source": [
    "d.datetime.today().month"
   ]
  },
  {
   "cell_type": "code",
   "execution_count": 18,
   "id": "7d3046fc",
   "metadata": {},
   "outputs": [
    {
     "data": {
      "text/plain": [
       "2022"
      ]
     },
     "execution_count": 18,
     "metadata": {},
     "output_type": "execute_result"
    }
   ],
   "source": [
    "d.datetime.today().year"
   ]
  },
  {
   "cell_type": "code",
   "execution_count": 23,
   "id": "d2ed1811",
   "metadata": {},
   "outputs": [
    {
     "data": {
      "text/plain": [
       "datetime.datetime(2022, 6, 1, 21, 20, 35, 352211)"
      ]
     },
     "execution_count": 23,
     "metadata": {},
     "output_type": "execute_result"
    }
   ],
   "source": [
    "tody - d.timedelta(1)"
   ]
  },
  {
   "cell_type": "code",
   "execution_count": 25,
   "id": "b57b8f57",
   "metadata": {},
   "outputs": [
    {
     "data": {
      "text/plain": [
       "[datetime.datetime(2022, 6, 2, 21, 20, 35, 352211),\n",
       " datetime.datetime(2022, 6, 1, 21, 20, 35, 352211),\n",
       " datetime.datetime(2022, 5, 31, 21, 20, 35, 352211),\n",
       " datetime.datetime(2022, 5, 30, 21, 20, 35, 352211),\n",
       " datetime.datetime(2022, 5, 29, 21, 20, 35, 352211),\n",
       " datetime.datetime(2022, 5, 28, 21, 20, 35, 352211),\n",
       " datetime.datetime(2022, 5, 27, 21, 20, 35, 352211),\n",
       " datetime.datetime(2022, 5, 26, 21, 20, 35, 352211),\n",
       " datetime.datetime(2022, 5, 25, 21, 20, 35, 352211),\n",
       " datetime.datetime(2022, 5, 24, 21, 20, 35, 352211),\n",
       " datetime.datetime(2022, 5, 23, 21, 20, 35, 352211),\n",
       " datetime.datetime(2022, 5, 22, 21, 20, 35, 352211),\n",
       " datetime.datetime(2022, 5, 21, 21, 20, 35, 352211),\n",
       " datetime.datetime(2022, 5, 20, 21, 20, 35, 352211),\n",
       " datetime.datetime(2022, 5, 19, 21, 20, 35, 352211)]"
      ]
     },
     "execution_count": 25,
     "metadata": {},
     "output_type": "execute_result"
    }
   ],
   "source": [
    "days = [tody - d.timedelta(i) for i in range(15)]\n",
    "days"
   ]
  },
  {
   "cell_type": "code",
   "execution_count": 73,
   "id": "0d0bde08",
   "metadata": {},
   "outputs": [],
   "source": [
    "df = pd.DataFrame(days)"
   ]
  },
  {
   "cell_type": "code",
   "execution_count": 74,
   "id": "5869c80a",
   "metadata": {},
   "outputs": [],
   "source": [
    "df.columns = ['date']"
   ]
  },
  {
   "cell_type": "code",
   "execution_count": 75,
   "id": "eba3f2f3",
   "metadata": {},
   "outputs": [
    {
     "data": {
      "text/html": [
       "<div>\n",
       "<style scoped>\n",
       "    .dataframe tbody tr th:only-of-type {\n",
       "        vertical-align: middle;\n",
       "    }\n",
       "\n",
       "    .dataframe tbody tr th {\n",
       "        vertical-align: top;\n",
       "    }\n",
       "\n",
       "    .dataframe thead th {\n",
       "        text-align: right;\n",
       "    }\n",
       "</style>\n",
       "<table border=\"1\" class=\"dataframe\">\n",
       "  <thead>\n",
       "    <tr style=\"text-align: right;\">\n",
       "      <th></th>\n",
       "      <th>date</th>\n",
       "    </tr>\n",
       "  </thead>\n",
       "  <tbody>\n",
       "    <tr>\n",
       "      <th>0</th>\n",
       "      <td>2022-06-02 21:20:35.352211</td>\n",
       "    </tr>\n",
       "    <tr>\n",
       "      <th>1</th>\n",
       "      <td>2022-06-01 21:20:35.352211</td>\n",
       "    </tr>\n",
       "    <tr>\n",
       "      <th>2</th>\n",
       "      <td>2022-05-31 21:20:35.352211</td>\n",
       "    </tr>\n",
       "    <tr>\n",
       "      <th>3</th>\n",
       "      <td>2022-05-30 21:20:35.352211</td>\n",
       "    </tr>\n",
       "    <tr>\n",
       "      <th>4</th>\n",
       "      <td>2022-05-29 21:20:35.352211</td>\n",
       "    </tr>\n",
       "    <tr>\n",
       "      <th>5</th>\n",
       "      <td>2022-05-28 21:20:35.352211</td>\n",
       "    </tr>\n",
       "    <tr>\n",
       "      <th>6</th>\n",
       "      <td>2022-05-27 21:20:35.352211</td>\n",
       "    </tr>\n",
       "    <tr>\n",
       "      <th>7</th>\n",
       "      <td>2022-05-26 21:20:35.352211</td>\n",
       "    </tr>\n",
       "    <tr>\n",
       "      <th>8</th>\n",
       "      <td>2022-05-25 21:20:35.352211</td>\n",
       "    </tr>\n",
       "    <tr>\n",
       "      <th>9</th>\n",
       "      <td>2022-05-24 21:20:35.352211</td>\n",
       "    </tr>\n",
       "    <tr>\n",
       "      <th>10</th>\n",
       "      <td>2022-05-23 21:20:35.352211</td>\n",
       "    </tr>\n",
       "    <tr>\n",
       "      <th>11</th>\n",
       "      <td>2022-05-22 21:20:35.352211</td>\n",
       "    </tr>\n",
       "    <tr>\n",
       "      <th>12</th>\n",
       "      <td>2022-05-21 21:20:35.352211</td>\n",
       "    </tr>\n",
       "    <tr>\n",
       "      <th>13</th>\n",
       "      <td>2022-05-20 21:20:35.352211</td>\n",
       "    </tr>\n",
       "    <tr>\n",
       "      <th>14</th>\n",
       "      <td>2022-05-19 21:20:35.352211</td>\n",
       "    </tr>\n",
       "  </tbody>\n",
       "</table>\n",
       "</div>"
      ],
      "text/plain": [
       "                         date\n",
       "0  2022-06-02 21:20:35.352211\n",
       "1  2022-06-01 21:20:35.352211\n",
       "2  2022-05-31 21:20:35.352211\n",
       "3  2022-05-30 21:20:35.352211\n",
       "4  2022-05-29 21:20:35.352211\n",
       "5  2022-05-28 21:20:35.352211\n",
       "6  2022-05-27 21:20:35.352211\n",
       "7  2022-05-26 21:20:35.352211\n",
       "8  2022-05-25 21:20:35.352211\n",
       "9  2022-05-24 21:20:35.352211\n",
       "10 2022-05-23 21:20:35.352211\n",
       "11 2022-05-22 21:20:35.352211\n",
       "12 2022-05-21 21:20:35.352211\n",
       "13 2022-05-20 21:20:35.352211\n",
       "14 2022-05-19 21:20:35.352211"
      ]
     },
     "execution_count": 75,
     "metadata": {},
     "output_type": "execute_result"
    }
   ],
   "source": [
    "df"
   ]
  },
  {
   "cell_type": "code",
   "execution_count": 76,
   "id": "12b21ba4",
   "metadata": {},
   "outputs": [
    {
     "data": {
      "text/plain": [
       "0     3\n",
       "1     2\n",
       "2     1\n",
       "3     0\n",
       "4     6\n",
       "5     5\n",
       "6     4\n",
       "7     3\n",
       "8     2\n",
       "9     1\n",
       "10    0\n",
       "11    6\n",
       "12    5\n",
       "13    4\n",
       "14    3\n",
       "Name: date, dtype: int64"
      ]
     },
     "execution_count": 76,
     "metadata": {},
     "output_type": "execute_result"
    }
   ],
   "source": [
    "df['date'].dt.weekday"
   ]
  },
  {
   "cell_type": "code",
   "execution_count": 77,
   "id": "13056554",
   "metadata": {},
   "outputs": [],
   "source": [
    "df['weekdayno']= df['date'].dt.weekday"
   ]
  },
  {
   "cell_type": "code",
   "execution_count": 78,
   "id": "b81acd9e",
   "metadata": {
    "collapsed": true
   },
   "outputs": [
    {
     "data": {
      "text/html": [
       "<div>\n",
       "<style scoped>\n",
       "    .dataframe tbody tr th:only-of-type {\n",
       "        vertical-align: middle;\n",
       "    }\n",
       "\n",
       "    .dataframe tbody tr th {\n",
       "        vertical-align: top;\n",
       "    }\n",
       "\n",
       "    .dataframe thead th {\n",
       "        text-align: right;\n",
       "    }\n",
       "</style>\n",
       "<table border=\"1\" class=\"dataframe\">\n",
       "  <thead>\n",
       "    <tr style=\"text-align: right;\">\n",
       "      <th></th>\n",
       "      <th>date</th>\n",
       "      <th>weekdayno</th>\n",
       "    </tr>\n",
       "  </thead>\n",
       "  <tbody>\n",
       "    <tr>\n",
       "      <th>0</th>\n",
       "      <td>2022-06-02 21:20:35.352211</td>\n",
       "      <td>3</td>\n",
       "    </tr>\n",
       "    <tr>\n",
       "      <th>1</th>\n",
       "      <td>2022-06-01 21:20:35.352211</td>\n",
       "      <td>2</td>\n",
       "    </tr>\n",
       "    <tr>\n",
       "      <th>2</th>\n",
       "      <td>2022-05-31 21:20:35.352211</td>\n",
       "      <td>1</td>\n",
       "    </tr>\n",
       "    <tr>\n",
       "      <th>3</th>\n",
       "      <td>2022-05-30 21:20:35.352211</td>\n",
       "      <td>0</td>\n",
       "    </tr>\n",
       "    <tr>\n",
       "      <th>4</th>\n",
       "      <td>2022-05-29 21:20:35.352211</td>\n",
       "      <td>6</td>\n",
       "    </tr>\n",
       "    <tr>\n",
       "      <th>5</th>\n",
       "      <td>2022-05-28 21:20:35.352211</td>\n",
       "      <td>5</td>\n",
       "    </tr>\n",
       "    <tr>\n",
       "      <th>6</th>\n",
       "      <td>2022-05-27 21:20:35.352211</td>\n",
       "      <td>4</td>\n",
       "    </tr>\n",
       "    <tr>\n",
       "      <th>7</th>\n",
       "      <td>2022-05-26 21:20:35.352211</td>\n",
       "      <td>3</td>\n",
       "    </tr>\n",
       "    <tr>\n",
       "      <th>8</th>\n",
       "      <td>2022-05-25 21:20:35.352211</td>\n",
       "      <td>2</td>\n",
       "    </tr>\n",
       "    <tr>\n",
       "      <th>9</th>\n",
       "      <td>2022-05-24 21:20:35.352211</td>\n",
       "      <td>1</td>\n",
       "    </tr>\n",
       "    <tr>\n",
       "      <th>10</th>\n",
       "      <td>2022-05-23 21:20:35.352211</td>\n",
       "      <td>0</td>\n",
       "    </tr>\n",
       "    <tr>\n",
       "      <th>11</th>\n",
       "      <td>2022-05-22 21:20:35.352211</td>\n",
       "      <td>6</td>\n",
       "    </tr>\n",
       "    <tr>\n",
       "      <th>12</th>\n",
       "      <td>2022-05-21 21:20:35.352211</td>\n",
       "      <td>5</td>\n",
       "    </tr>\n",
       "    <tr>\n",
       "      <th>13</th>\n",
       "      <td>2022-05-20 21:20:35.352211</td>\n",
       "      <td>4</td>\n",
       "    </tr>\n",
       "    <tr>\n",
       "      <th>14</th>\n",
       "      <td>2022-05-19 21:20:35.352211</td>\n",
       "      <td>3</td>\n",
       "    </tr>\n",
       "  </tbody>\n",
       "</table>\n",
       "</div>"
      ],
      "text/plain": [
       "                         date  weekdayno\n",
       "0  2022-06-02 21:20:35.352211          3\n",
       "1  2022-06-01 21:20:35.352211          2\n",
       "2  2022-05-31 21:20:35.352211          1\n",
       "3  2022-05-30 21:20:35.352211          0\n",
       "4  2022-05-29 21:20:35.352211          6\n",
       "5  2022-05-28 21:20:35.352211          5\n",
       "6  2022-05-27 21:20:35.352211          4\n",
       "7  2022-05-26 21:20:35.352211          3\n",
       "8  2022-05-25 21:20:35.352211          2\n",
       "9  2022-05-24 21:20:35.352211          1\n",
       "10 2022-05-23 21:20:35.352211          0\n",
       "11 2022-05-22 21:20:35.352211          6\n",
       "12 2022-05-21 21:20:35.352211          5\n",
       "13 2022-05-20 21:20:35.352211          4\n",
       "14 2022-05-19 21:20:35.352211          3"
      ]
     },
     "execution_count": 78,
     "metadata": {},
     "output_type": "execute_result"
    }
   ],
   "source": [
    "df"
   ]
  },
  {
   "cell_type": "code",
   "execution_count": 79,
   "id": "39978407",
   "metadata": {},
   "outputs": [],
   "source": [
    "df['weekdayname']= df['date'].dt.day_name()"
   ]
  },
  {
   "cell_type": "code",
   "execution_count": 80,
   "id": "b703b771",
   "metadata": {
    "collapsed": true
   },
   "outputs": [
    {
     "data": {
      "text/html": [
       "<div>\n",
       "<style scoped>\n",
       "    .dataframe tbody tr th:only-of-type {\n",
       "        vertical-align: middle;\n",
       "    }\n",
       "\n",
       "    .dataframe tbody tr th {\n",
       "        vertical-align: top;\n",
       "    }\n",
       "\n",
       "    .dataframe thead th {\n",
       "        text-align: right;\n",
       "    }\n",
       "</style>\n",
       "<table border=\"1\" class=\"dataframe\">\n",
       "  <thead>\n",
       "    <tr style=\"text-align: right;\">\n",
       "      <th></th>\n",
       "      <th>date</th>\n",
       "      <th>weekdayno</th>\n",
       "      <th>weekdayname</th>\n",
       "    </tr>\n",
       "  </thead>\n",
       "  <tbody>\n",
       "    <tr>\n",
       "      <th>0</th>\n",
       "      <td>2022-06-02 21:20:35.352211</td>\n",
       "      <td>3</td>\n",
       "      <td>Thursday</td>\n",
       "    </tr>\n",
       "    <tr>\n",
       "      <th>1</th>\n",
       "      <td>2022-06-01 21:20:35.352211</td>\n",
       "      <td>2</td>\n",
       "      <td>Wednesday</td>\n",
       "    </tr>\n",
       "    <tr>\n",
       "      <th>2</th>\n",
       "      <td>2022-05-31 21:20:35.352211</td>\n",
       "      <td>1</td>\n",
       "      <td>Tuesday</td>\n",
       "    </tr>\n",
       "    <tr>\n",
       "      <th>3</th>\n",
       "      <td>2022-05-30 21:20:35.352211</td>\n",
       "      <td>0</td>\n",
       "      <td>Monday</td>\n",
       "    </tr>\n",
       "    <tr>\n",
       "      <th>4</th>\n",
       "      <td>2022-05-29 21:20:35.352211</td>\n",
       "      <td>6</td>\n",
       "      <td>Sunday</td>\n",
       "    </tr>\n",
       "    <tr>\n",
       "      <th>5</th>\n",
       "      <td>2022-05-28 21:20:35.352211</td>\n",
       "      <td>5</td>\n",
       "      <td>Saturday</td>\n",
       "    </tr>\n",
       "    <tr>\n",
       "      <th>6</th>\n",
       "      <td>2022-05-27 21:20:35.352211</td>\n",
       "      <td>4</td>\n",
       "      <td>Friday</td>\n",
       "    </tr>\n",
       "    <tr>\n",
       "      <th>7</th>\n",
       "      <td>2022-05-26 21:20:35.352211</td>\n",
       "      <td>3</td>\n",
       "      <td>Thursday</td>\n",
       "    </tr>\n",
       "    <tr>\n",
       "      <th>8</th>\n",
       "      <td>2022-05-25 21:20:35.352211</td>\n",
       "      <td>2</td>\n",
       "      <td>Wednesday</td>\n",
       "    </tr>\n",
       "    <tr>\n",
       "      <th>9</th>\n",
       "      <td>2022-05-24 21:20:35.352211</td>\n",
       "      <td>1</td>\n",
       "      <td>Tuesday</td>\n",
       "    </tr>\n",
       "    <tr>\n",
       "      <th>10</th>\n",
       "      <td>2022-05-23 21:20:35.352211</td>\n",
       "      <td>0</td>\n",
       "      <td>Monday</td>\n",
       "    </tr>\n",
       "    <tr>\n",
       "      <th>11</th>\n",
       "      <td>2022-05-22 21:20:35.352211</td>\n",
       "      <td>6</td>\n",
       "      <td>Sunday</td>\n",
       "    </tr>\n",
       "    <tr>\n",
       "      <th>12</th>\n",
       "      <td>2022-05-21 21:20:35.352211</td>\n",
       "      <td>5</td>\n",
       "      <td>Saturday</td>\n",
       "    </tr>\n",
       "    <tr>\n",
       "      <th>13</th>\n",
       "      <td>2022-05-20 21:20:35.352211</td>\n",
       "      <td>4</td>\n",
       "      <td>Friday</td>\n",
       "    </tr>\n",
       "    <tr>\n",
       "      <th>14</th>\n",
       "      <td>2022-05-19 21:20:35.352211</td>\n",
       "      <td>3</td>\n",
       "      <td>Thursday</td>\n",
       "    </tr>\n",
       "  </tbody>\n",
       "</table>\n",
       "</div>"
      ],
      "text/plain": [
       "                         date  weekdayno weekdayname\n",
       "0  2022-06-02 21:20:35.352211          3    Thursday\n",
       "1  2022-06-01 21:20:35.352211          2   Wednesday\n",
       "2  2022-05-31 21:20:35.352211          1     Tuesday\n",
       "3  2022-05-30 21:20:35.352211          0      Monday\n",
       "4  2022-05-29 21:20:35.352211          6      Sunday\n",
       "5  2022-05-28 21:20:35.352211          5    Saturday\n",
       "6  2022-05-27 21:20:35.352211          4      Friday\n",
       "7  2022-05-26 21:20:35.352211          3    Thursday\n",
       "8  2022-05-25 21:20:35.352211          2   Wednesday\n",
       "9  2022-05-24 21:20:35.352211          1     Tuesday\n",
       "10 2022-05-23 21:20:35.352211          0      Monday\n",
       "11 2022-05-22 21:20:35.352211          6      Sunday\n",
       "12 2022-05-21 21:20:35.352211          5    Saturday\n",
       "13 2022-05-20 21:20:35.352211          4      Friday\n",
       "14 2022-05-19 21:20:35.352211          3    Thursday"
      ]
     },
     "execution_count": 80,
     "metadata": {},
     "output_type": "execute_result"
    }
   ],
   "source": [
    "df"
   ]
  },
  {
   "cell_type": "code",
   "execution_count": 81,
   "id": "1021b633",
   "metadata": {},
   "outputs": [],
   "source": [
    "df['monthno']= df['date'].dt.month"
   ]
  },
  {
   "cell_type": "code",
   "execution_count": 82,
   "id": "c9db2dd3",
   "metadata": {
    "collapsed": true
   },
   "outputs": [
    {
     "data": {
      "text/html": [
       "<div>\n",
       "<style scoped>\n",
       "    .dataframe tbody tr th:only-of-type {\n",
       "        vertical-align: middle;\n",
       "    }\n",
       "\n",
       "    .dataframe tbody tr th {\n",
       "        vertical-align: top;\n",
       "    }\n",
       "\n",
       "    .dataframe thead th {\n",
       "        text-align: right;\n",
       "    }\n",
       "</style>\n",
       "<table border=\"1\" class=\"dataframe\">\n",
       "  <thead>\n",
       "    <tr style=\"text-align: right;\">\n",
       "      <th></th>\n",
       "      <th>date</th>\n",
       "      <th>weekdayno</th>\n",
       "      <th>weekdayname</th>\n",
       "      <th>monthno</th>\n",
       "    </tr>\n",
       "  </thead>\n",
       "  <tbody>\n",
       "    <tr>\n",
       "      <th>0</th>\n",
       "      <td>2022-06-02 21:20:35.352211</td>\n",
       "      <td>3</td>\n",
       "      <td>Thursday</td>\n",
       "      <td>6</td>\n",
       "    </tr>\n",
       "    <tr>\n",
       "      <th>1</th>\n",
       "      <td>2022-06-01 21:20:35.352211</td>\n",
       "      <td>2</td>\n",
       "      <td>Wednesday</td>\n",
       "      <td>6</td>\n",
       "    </tr>\n",
       "    <tr>\n",
       "      <th>2</th>\n",
       "      <td>2022-05-31 21:20:35.352211</td>\n",
       "      <td>1</td>\n",
       "      <td>Tuesday</td>\n",
       "      <td>5</td>\n",
       "    </tr>\n",
       "    <tr>\n",
       "      <th>3</th>\n",
       "      <td>2022-05-30 21:20:35.352211</td>\n",
       "      <td>0</td>\n",
       "      <td>Monday</td>\n",
       "      <td>5</td>\n",
       "    </tr>\n",
       "    <tr>\n",
       "      <th>4</th>\n",
       "      <td>2022-05-29 21:20:35.352211</td>\n",
       "      <td>6</td>\n",
       "      <td>Sunday</td>\n",
       "      <td>5</td>\n",
       "    </tr>\n",
       "    <tr>\n",
       "      <th>5</th>\n",
       "      <td>2022-05-28 21:20:35.352211</td>\n",
       "      <td>5</td>\n",
       "      <td>Saturday</td>\n",
       "      <td>5</td>\n",
       "    </tr>\n",
       "    <tr>\n",
       "      <th>6</th>\n",
       "      <td>2022-05-27 21:20:35.352211</td>\n",
       "      <td>4</td>\n",
       "      <td>Friday</td>\n",
       "      <td>5</td>\n",
       "    </tr>\n",
       "    <tr>\n",
       "      <th>7</th>\n",
       "      <td>2022-05-26 21:20:35.352211</td>\n",
       "      <td>3</td>\n",
       "      <td>Thursday</td>\n",
       "      <td>5</td>\n",
       "    </tr>\n",
       "    <tr>\n",
       "      <th>8</th>\n",
       "      <td>2022-05-25 21:20:35.352211</td>\n",
       "      <td>2</td>\n",
       "      <td>Wednesday</td>\n",
       "      <td>5</td>\n",
       "    </tr>\n",
       "    <tr>\n",
       "      <th>9</th>\n",
       "      <td>2022-05-24 21:20:35.352211</td>\n",
       "      <td>1</td>\n",
       "      <td>Tuesday</td>\n",
       "      <td>5</td>\n",
       "    </tr>\n",
       "    <tr>\n",
       "      <th>10</th>\n",
       "      <td>2022-05-23 21:20:35.352211</td>\n",
       "      <td>0</td>\n",
       "      <td>Monday</td>\n",
       "      <td>5</td>\n",
       "    </tr>\n",
       "    <tr>\n",
       "      <th>11</th>\n",
       "      <td>2022-05-22 21:20:35.352211</td>\n",
       "      <td>6</td>\n",
       "      <td>Sunday</td>\n",
       "      <td>5</td>\n",
       "    </tr>\n",
       "    <tr>\n",
       "      <th>12</th>\n",
       "      <td>2022-05-21 21:20:35.352211</td>\n",
       "      <td>5</td>\n",
       "      <td>Saturday</td>\n",
       "      <td>5</td>\n",
       "    </tr>\n",
       "    <tr>\n",
       "      <th>13</th>\n",
       "      <td>2022-05-20 21:20:35.352211</td>\n",
       "      <td>4</td>\n",
       "      <td>Friday</td>\n",
       "      <td>5</td>\n",
       "    </tr>\n",
       "    <tr>\n",
       "      <th>14</th>\n",
       "      <td>2022-05-19 21:20:35.352211</td>\n",
       "      <td>3</td>\n",
       "      <td>Thursday</td>\n",
       "      <td>5</td>\n",
       "    </tr>\n",
       "  </tbody>\n",
       "</table>\n",
       "</div>"
      ],
      "text/plain": [
       "                         date  weekdayno weekdayname  monthno\n",
       "0  2022-06-02 21:20:35.352211          3    Thursday        6\n",
       "1  2022-06-01 21:20:35.352211          2   Wednesday        6\n",
       "2  2022-05-31 21:20:35.352211          1     Tuesday        5\n",
       "3  2022-05-30 21:20:35.352211          0      Monday        5\n",
       "4  2022-05-29 21:20:35.352211          6      Sunday        5\n",
       "5  2022-05-28 21:20:35.352211          5    Saturday        5\n",
       "6  2022-05-27 21:20:35.352211          4      Friday        5\n",
       "7  2022-05-26 21:20:35.352211          3    Thursday        5\n",
       "8  2022-05-25 21:20:35.352211          2   Wednesday        5\n",
       "9  2022-05-24 21:20:35.352211          1     Tuesday        5\n",
       "10 2022-05-23 21:20:35.352211          0      Monday        5\n",
       "11 2022-05-22 21:20:35.352211          6      Sunday        5\n",
       "12 2022-05-21 21:20:35.352211          5    Saturday        5\n",
       "13 2022-05-20 21:20:35.352211          4      Friday        5\n",
       "14 2022-05-19 21:20:35.352211          3    Thursday        5"
      ]
     },
     "execution_count": 82,
     "metadata": {},
     "output_type": "execute_result"
    }
   ],
   "source": [
    "df"
   ]
  },
  {
   "cell_type": "code",
   "execution_count": 83,
   "id": "f0ea3eb4",
   "metadata": {},
   "outputs": [],
   "source": [
    "df['year']= df['date'].dt.year"
   ]
  },
  {
   "cell_type": "code",
   "execution_count": 71,
   "id": "a048c093",
   "metadata": {
    "collapsed": true
   },
   "outputs": [
    {
     "data": {
      "text/html": [
       "<div>\n",
       "<style scoped>\n",
       "    .dataframe tbody tr th:only-of-type {\n",
       "        vertical-align: middle;\n",
       "    }\n",
       "\n",
       "    .dataframe tbody tr th {\n",
       "        vertical-align: top;\n",
       "    }\n",
       "\n",
       "    .dataframe thead th {\n",
       "        text-align: right;\n",
       "    }\n",
       "</style>\n",
       "<table border=\"1\" class=\"dataframe\">\n",
       "  <thead>\n",
       "    <tr style=\"text-align: right;\">\n",
       "      <th></th>\n",
       "      <th>date</th>\n",
       "      <th>weekdayno</th>\n",
       "      <th>weekdayname</th>\n",
       "      <th>monthno</th>\n",
       "      <th>year</th>\n",
       "    </tr>\n",
       "  </thead>\n",
       "  <tbody>\n",
       "    <tr>\n",
       "      <th>0</th>\n",
       "      <td>2022-06-02 21:20:35.352211</td>\n",
       "      <td>3</td>\n",
       "      <td>Thursday</td>\n",
       "      <td>6</td>\n",
       "      <td>2022</td>\n",
       "    </tr>\n",
       "    <tr>\n",
       "      <th>1</th>\n",
       "      <td>2022-06-01 21:20:35.352211</td>\n",
       "      <td>2</td>\n",
       "      <td>Wednesday</td>\n",
       "      <td>6</td>\n",
       "      <td>2022</td>\n",
       "    </tr>\n",
       "    <tr>\n",
       "      <th>2</th>\n",
       "      <td>2022-05-31 21:20:35.352211</td>\n",
       "      <td>1</td>\n",
       "      <td>Tuesday</td>\n",
       "      <td>5</td>\n",
       "      <td>2022</td>\n",
       "    </tr>\n",
       "    <tr>\n",
       "      <th>3</th>\n",
       "      <td>2022-05-30 21:20:35.352211</td>\n",
       "      <td>0</td>\n",
       "      <td>Monday</td>\n",
       "      <td>5</td>\n",
       "      <td>2022</td>\n",
       "    </tr>\n",
       "    <tr>\n",
       "      <th>4</th>\n",
       "      <td>2022-05-29 21:20:35.352211</td>\n",
       "      <td>6</td>\n",
       "      <td>Sunday</td>\n",
       "      <td>5</td>\n",
       "      <td>2022</td>\n",
       "    </tr>\n",
       "    <tr>\n",
       "      <th>5</th>\n",
       "      <td>2022-05-28 21:20:35.352211</td>\n",
       "      <td>5</td>\n",
       "      <td>Saturday</td>\n",
       "      <td>5</td>\n",
       "      <td>2022</td>\n",
       "    </tr>\n",
       "    <tr>\n",
       "      <th>6</th>\n",
       "      <td>2022-05-27 21:20:35.352211</td>\n",
       "      <td>4</td>\n",
       "      <td>Friday</td>\n",
       "      <td>5</td>\n",
       "      <td>2022</td>\n",
       "    </tr>\n",
       "    <tr>\n",
       "      <th>7</th>\n",
       "      <td>2022-05-26 21:20:35.352211</td>\n",
       "      <td>3</td>\n",
       "      <td>Thursday</td>\n",
       "      <td>5</td>\n",
       "      <td>2022</td>\n",
       "    </tr>\n",
       "    <tr>\n",
       "      <th>8</th>\n",
       "      <td>2022-05-25 21:20:35.352211</td>\n",
       "      <td>2</td>\n",
       "      <td>Wednesday</td>\n",
       "      <td>5</td>\n",
       "      <td>2022</td>\n",
       "    </tr>\n",
       "    <tr>\n",
       "      <th>9</th>\n",
       "      <td>2022-05-24 21:20:35.352211</td>\n",
       "      <td>1</td>\n",
       "      <td>Tuesday</td>\n",
       "      <td>5</td>\n",
       "      <td>2022</td>\n",
       "    </tr>\n",
       "    <tr>\n",
       "      <th>10</th>\n",
       "      <td>2022-05-23 21:20:35.352211</td>\n",
       "      <td>0</td>\n",
       "      <td>Monday</td>\n",
       "      <td>5</td>\n",
       "      <td>2022</td>\n",
       "    </tr>\n",
       "    <tr>\n",
       "      <th>11</th>\n",
       "      <td>2022-05-22 21:20:35.352211</td>\n",
       "      <td>6</td>\n",
       "      <td>Sunday</td>\n",
       "      <td>5</td>\n",
       "      <td>2022</td>\n",
       "    </tr>\n",
       "    <tr>\n",
       "      <th>12</th>\n",
       "      <td>2022-05-21 21:20:35.352211</td>\n",
       "      <td>5</td>\n",
       "      <td>Saturday</td>\n",
       "      <td>5</td>\n",
       "      <td>2022</td>\n",
       "    </tr>\n",
       "    <tr>\n",
       "      <th>13</th>\n",
       "      <td>2022-05-20 21:20:35.352211</td>\n",
       "      <td>4</td>\n",
       "      <td>Friday</td>\n",
       "      <td>5</td>\n",
       "      <td>2022</td>\n",
       "    </tr>\n",
       "    <tr>\n",
       "      <th>14</th>\n",
       "      <td>2022-05-19 21:20:35.352211</td>\n",
       "      <td>3</td>\n",
       "      <td>Thursday</td>\n",
       "      <td>5</td>\n",
       "      <td>2022</td>\n",
       "    </tr>\n",
       "  </tbody>\n",
       "</table>\n",
       "</div>"
      ],
      "text/plain": [
       "                         date  weekdayno weekdayname  monthno  year\n",
       "0  2022-06-02 21:20:35.352211          3    Thursday        6  2022\n",
       "1  2022-06-01 21:20:35.352211          2   Wednesday        6  2022\n",
       "2  2022-05-31 21:20:35.352211          1     Tuesday        5  2022\n",
       "3  2022-05-30 21:20:35.352211          0      Monday        5  2022\n",
       "4  2022-05-29 21:20:35.352211          6      Sunday        5  2022\n",
       "5  2022-05-28 21:20:35.352211          5    Saturday        5  2022\n",
       "6  2022-05-27 21:20:35.352211          4      Friday        5  2022\n",
       "7  2022-05-26 21:20:35.352211          3    Thursday        5  2022\n",
       "8  2022-05-25 21:20:35.352211          2   Wednesday        5  2022\n",
       "9  2022-05-24 21:20:35.352211          1     Tuesday        5  2022\n",
       "10 2022-05-23 21:20:35.352211          0      Monday        5  2022\n",
       "11 2022-05-22 21:20:35.352211          6      Sunday        5  2022\n",
       "12 2022-05-21 21:20:35.352211          5    Saturday        5  2022\n",
       "13 2022-05-20 21:20:35.352211          4      Friday        5  2022\n",
       "14 2022-05-19 21:20:35.352211          3    Thursday        5  2022"
      ]
     },
     "execution_count": 71,
     "metadata": {},
     "output_type": "execute_result"
    }
   ],
   "source": [
    "df"
   ]
  },
  {
   "cell_type": "code",
   "execution_count": 84,
   "id": "333ca19b",
   "metadata": {},
   "outputs": [],
   "source": [
    "df['Date']=df[\"date\"].dt.day"
   ]
  },
  {
   "cell_type": "code",
   "execution_count": 85,
   "id": "44533116",
   "metadata": {
    "collapsed": true
   },
   "outputs": [
    {
     "data": {
      "text/html": [
       "<div>\n",
       "<style scoped>\n",
       "    .dataframe tbody tr th:only-of-type {\n",
       "        vertical-align: middle;\n",
       "    }\n",
       "\n",
       "    .dataframe tbody tr th {\n",
       "        vertical-align: top;\n",
       "    }\n",
       "\n",
       "    .dataframe thead th {\n",
       "        text-align: right;\n",
       "    }\n",
       "</style>\n",
       "<table border=\"1\" class=\"dataframe\">\n",
       "  <thead>\n",
       "    <tr style=\"text-align: right;\">\n",
       "      <th></th>\n",
       "      <th>date</th>\n",
       "      <th>weekdayno</th>\n",
       "      <th>weekdayname</th>\n",
       "      <th>monthno</th>\n",
       "      <th>year</th>\n",
       "      <th>Date</th>\n",
       "    </tr>\n",
       "  </thead>\n",
       "  <tbody>\n",
       "    <tr>\n",
       "      <th>0</th>\n",
       "      <td>2022-06-02 21:20:35.352211</td>\n",
       "      <td>3</td>\n",
       "      <td>Thursday</td>\n",
       "      <td>6</td>\n",
       "      <td>2022</td>\n",
       "      <td>2</td>\n",
       "    </tr>\n",
       "    <tr>\n",
       "      <th>1</th>\n",
       "      <td>2022-06-01 21:20:35.352211</td>\n",
       "      <td>2</td>\n",
       "      <td>Wednesday</td>\n",
       "      <td>6</td>\n",
       "      <td>2022</td>\n",
       "      <td>1</td>\n",
       "    </tr>\n",
       "    <tr>\n",
       "      <th>2</th>\n",
       "      <td>2022-05-31 21:20:35.352211</td>\n",
       "      <td>1</td>\n",
       "      <td>Tuesday</td>\n",
       "      <td>5</td>\n",
       "      <td>2022</td>\n",
       "      <td>31</td>\n",
       "    </tr>\n",
       "    <tr>\n",
       "      <th>3</th>\n",
       "      <td>2022-05-30 21:20:35.352211</td>\n",
       "      <td>0</td>\n",
       "      <td>Monday</td>\n",
       "      <td>5</td>\n",
       "      <td>2022</td>\n",
       "      <td>30</td>\n",
       "    </tr>\n",
       "    <tr>\n",
       "      <th>4</th>\n",
       "      <td>2022-05-29 21:20:35.352211</td>\n",
       "      <td>6</td>\n",
       "      <td>Sunday</td>\n",
       "      <td>5</td>\n",
       "      <td>2022</td>\n",
       "      <td>29</td>\n",
       "    </tr>\n",
       "    <tr>\n",
       "      <th>5</th>\n",
       "      <td>2022-05-28 21:20:35.352211</td>\n",
       "      <td>5</td>\n",
       "      <td>Saturday</td>\n",
       "      <td>5</td>\n",
       "      <td>2022</td>\n",
       "      <td>28</td>\n",
       "    </tr>\n",
       "    <tr>\n",
       "      <th>6</th>\n",
       "      <td>2022-05-27 21:20:35.352211</td>\n",
       "      <td>4</td>\n",
       "      <td>Friday</td>\n",
       "      <td>5</td>\n",
       "      <td>2022</td>\n",
       "      <td>27</td>\n",
       "    </tr>\n",
       "    <tr>\n",
       "      <th>7</th>\n",
       "      <td>2022-05-26 21:20:35.352211</td>\n",
       "      <td>3</td>\n",
       "      <td>Thursday</td>\n",
       "      <td>5</td>\n",
       "      <td>2022</td>\n",
       "      <td>26</td>\n",
       "    </tr>\n",
       "    <tr>\n",
       "      <th>8</th>\n",
       "      <td>2022-05-25 21:20:35.352211</td>\n",
       "      <td>2</td>\n",
       "      <td>Wednesday</td>\n",
       "      <td>5</td>\n",
       "      <td>2022</td>\n",
       "      <td>25</td>\n",
       "    </tr>\n",
       "    <tr>\n",
       "      <th>9</th>\n",
       "      <td>2022-05-24 21:20:35.352211</td>\n",
       "      <td>1</td>\n",
       "      <td>Tuesday</td>\n",
       "      <td>5</td>\n",
       "      <td>2022</td>\n",
       "      <td>24</td>\n",
       "    </tr>\n",
       "    <tr>\n",
       "      <th>10</th>\n",
       "      <td>2022-05-23 21:20:35.352211</td>\n",
       "      <td>0</td>\n",
       "      <td>Monday</td>\n",
       "      <td>5</td>\n",
       "      <td>2022</td>\n",
       "      <td>23</td>\n",
       "    </tr>\n",
       "    <tr>\n",
       "      <th>11</th>\n",
       "      <td>2022-05-22 21:20:35.352211</td>\n",
       "      <td>6</td>\n",
       "      <td>Sunday</td>\n",
       "      <td>5</td>\n",
       "      <td>2022</td>\n",
       "      <td>22</td>\n",
       "    </tr>\n",
       "    <tr>\n",
       "      <th>12</th>\n",
       "      <td>2022-05-21 21:20:35.352211</td>\n",
       "      <td>5</td>\n",
       "      <td>Saturday</td>\n",
       "      <td>5</td>\n",
       "      <td>2022</td>\n",
       "      <td>21</td>\n",
       "    </tr>\n",
       "    <tr>\n",
       "      <th>13</th>\n",
       "      <td>2022-05-20 21:20:35.352211</td>\n",
       "      <td>4</td>\n",
       "      <td>Friday</td>\n",
       "      <td>5</td>\n",
       "      <td>2022</td>\n",
       "      <td>20</td>\n",
       "    </tr>\n",
       "    <tr>\n",
       "      <th>14</th>\n",
       "      <td>2022-05-19 21:20:35.352211</td>\n",
       "      <td>3</td>\n",
       "      <td>Thursday</td>\n",
       "      <td>5</td>\n",
       "      <td>2022</td>\n",
       "      <td>19</td>\n",
       "    </tr>\n",
       "  </tbody>\n",
       "</table>\n",
       "</div>"
      ],
      "text/plain": [
       "                         date  weekdayno weekdayname  monthno  year  Date\n",
       "0  2022-06-02 21:20:35.352211          3    Thursday        6  2022     2\n",
       "1  2022-06-01 21:20:35.352211          2   Wednesday        6  2022     1\n",
       "2  2022-05-31 21:20:35.352211          1     Tuesday        5  2022    31\n",
       "3  2022-05-30 21:20:35.352211          0      Monday        5  2022    30\n",
       "4  2022-05-29 21:20:35.352211          6      Sunday        5  2022    29\n",
       "5  2022-05-28 21:20:35.352211          5    Saturday        5  2022    28\n",
       "6  2022-05-27 21:20:35.352211          4      Friday        5  2022    27\n",
       "7  2022-05-26 21:20:35.352211          3    Thursday        5  2022    26\n",
       "8  2022-05-25 21:20:35.352211          2   Wednesday        5  2022    25\n",
       "9  2022-05-24 21:20:35.352211          1     Tuesday        5  2022    24\n",
       "10 2022-05-23 21:20:35.352211          0      Monday        5  2022    23\n",
       "11 2022-05-22 21:20:35.352211          6      Sunday        5  2022    22\n",
       "12 2022-05-21 21:20:35.352211          5    Saturday        5  2022    21\n",
       "13 2022-05-20 21:20:35.352211          4      Friday        5  2022    20\n",
       "14 2022-05-19 21:20:35.352211          3    Thursday        5  2022    19"
      ]
     },
     "execution_count": 85,
     "metadata": {},
     "output_type": "execute_result"
    }
   ],
   "source": [
    "df"
   ]
  },
  {
   "cell_type": "code",
   "execution_count": 89,
   "id": "0500e8d2",
   "metadata": {},
   "outputs": [
    {
     "name": "stderr",
     "output_type": "stream",
     "text": [
      "C:\\Users\\USER\\AppData\\Local\\Temp/ipykernel_5896/4198712029.py:1: FutureWarning: Series.dt.weekofyear and Series.dt.week have been deprecated.  Please use Series.dt.isocalendar().week instead.\n",
      "  df['weekofyear'] = df['date'].dt.weekofyear\n"
     ]
    }
   ],
   "source": [
    "df['weekofyear'] = df['date'].dt.weekofyear"
   ]
  },
  {
   "cell_type": "code",
   "execution_count": 90,
   "id": "d84350ad",
   "metadata": {},
   "outputs": [
    {
     "data": {
      "text/html": [
       "<div>\n",
       "<style scoped>\n",
       "    .dataframe tbody tr th:only-of-type {\n",
       "        vertical-align: middle;\n",
       "    }\n",
       "\n",
       "    .dataframe tbody tr th {\n",
       "        vertical-align: top;\n",
       "    }\n",
       "\n",
       "    .dataframe thead th {\n",
       "        text-align: right;\n",
       "    }\n",
       "</style>\n",
       "<table border=\"1\" class=\"dataframe\">\n",
       "  <thead>\n",
       "    <tr style=\"text-align: right;\">\n",
       "      <th></th>\n",
       "      <th>date</th>\n",
       "      <th>weekdayno</th>\n",
       "      <th>weekdayname</th>\n",
       "      <th>monthno</th>\n",
       "      <th>year</th>\n",
       "      <th>Date</th>\n",
       "      <th>weekofyear</th>\n",
       "    </tr>\n",
       "  </thead>\n",
       "  <tbody>\n",
       "    <tr>\n",
       "      <th>0</th>\n",
       "      <td>2022-06-02 21:20:35.352211</td>\n",
       "      <td>3</td>\n",
       "      <td>Thursday</td>\n",
       "      <td>6</td>\n",
       "      <td>2022</td>\n",
       "      <td>2</td>\n",
       "      <td>22</td>\n",
       "    </tr>\n",
       "    <tr>\n",
       "      <th>1</th>\n",
       "      <td>2022-06-01 21:20:35.352211</td>\n",
       "      <td>2</td>\n",
       "      <td>Wednesday</td>\n",
       "      <td>6</td>\n",
       "      <td>2022</td>\n",
       "      <td>1</td>\n",
       "      <td>22</td>\n",
       "    </tr>\n",
       "    <tr>\n",
       "      <th>2</th>\n",
       "      <td>2022-05-31 21:20:35.352211</td>\n",
       "      <td>1</td>\n",
       "      <td>Tuesday</td>\n",
       "      <td>5</td>\n",
       "      <td>2022</td>\n",
       "      <td>31</td>\n",
       "      <td>22</td>\n",
       "    </tr>\n",
       "    <tr>\n",
       "      <th>3</th>\n",
       "      <td>2022-05-30 21:20:35.352211</td>\n",
       "      <td>0</td>\n",
       "      <td>Monday</td>\n",
       "      <td>5</td>\n",
       "      <td>2022</td>\n",
       "      <td>30</td>\n",
       "      <td>22</td>\n",
       "    </tr>\n",
       "    <tr>\n",
       "      <th>4</th>\n",
       "      <td>2022-05-29 21:20:35.352211</td>\n",
       "      <td>6</td>\n",
       "      <td>Sunday</td>\n",
       "      <td>5</td>\n",
       "      <td>2022</td>\n",
       "      <td>29</td>\n",
       "      <td>21</td>\n",
       "    </tr>\n",
       "    <tr>\n",
       "      <th>5</th>\n",
       "      <td>2022-05-28 21:20:35.352211</td>\n",
       "      <td>5</td>\n",
       "      <td>Saturday</td>\n",
       "      <td>5</td>\n",
       "      <td>2022</td>\n",
       "      <td>28</td>\n",
       "      <td>21</td>\n",
       "    </tr>\n",
       "    <tr>\n",
       "      <th>6</th>\n",
       "      <td>2022-05-27 21:20:35.352211</td>\n",
       "      <td>4</td>\n",
       "      <td>Friday</td>\n",
       "      <td>5</td>\n",
       "      <td>2022</td>\n",
       "      <td>27</td>\n",
       "      <td>21</td>\n",
       "    </tr>\n",
       "    <tr>\n",
       "      <th>7</th>\n",
       "      <td>2022-05-26 21:20:35.352211</td>\n",
       "      <td>3</td>\n",
       "      <td>Thursday</td>\n",
       "      <td>5</td>\n",
       "      <td>2022</td>\n",
       "      <td>26</td>\n",
       "      <td>21</td>\n",
       "    </tr>\n",
       "    <tr>\n",
       "      <th>8</th>\n",
       "      <td>2022-05-25 21:20:35.352211</td>\n",
       "      <td>2</td>\n",
       "      <td>Wednesday</td>\n",
       "      <td>5</td>\n",
       "      <td>2022</td>\n",
       "      <td>25</td>\n",
       "      <td>21</td>\n",
       "    </tr>\n",
       "    <tr>\n",
       "      <th>9</th>\n",
       "      <td>2022-05-24 21:20:35.352211</td>\n",
       "      <td>1</td>\n",
       "      <td>Tuesday</td>\n",
       "      <td>5</td>\n",
       "      <td>2022</td>\n",
       "      <td>24</td>\n",
       "      <td>21</td>\n",
       "    </tr>\n",
       "    <tr>\n",
       "      <th>10</th>\n",
       "      <td>2022-05-23 21:20:35.352211</td>\n",
       "      <td>0</td>\n",
       "      <td>Monday</td>\n",
       "      <td>5</td>\n",
       "      <td>2022</td>\n",
       "      <td>23</td>\n",
       "      <td>21</td>\n",
       "    </tr>\n",
       "    <tr>\n",
       "      <th>11</th>\n",
       "      <td>2022-05-22 21:20:35.352211</td>\n",
       "      <td>6</td>\n",
       "      <td>Sunday</td>\n",
       "      <td>5</td>\n",
       "      <td>2022</td>\n",
       "      <td>22</td>\n",
       "      <td>20</td>\n",
       "    </tr>\n",
       "    <tr>\n",
       "      <th>12</th>\n",
       "      <td>2022-05-21 21:20:35.352211</td>\n",
       "      <td>5</td>\n",
       "      <td>Saturday</td>\n",
       "      <td>5</td>\n",
       "      <td>2022</td>\n",
       "      <td>21</td>\n",
       "      <td>20</td>\n",
       "    </tr>\n",
       "    <tr>\n",
       "      <th>13</th>\n",
       "      <td>2022-05-20 21:20:35.352211</td>\n",
       "      <td>4</td>\n",
       "      <td>Friday</td>\n",
       "      <td>5</td>\n",
       "      <td>2022</td>\n",
       "      <td>20</td>\n",
       "      <td>20</td>\n",
       "    </tr>\n",
       "    <tr>\n",
       "      <th>14</th>\n",
       "      <td>2022-05-19 21:20:35.352211</td>\n",
       "      <td>3</td>\n",
       "      <td>Thursday</td>\n",
       "      <td>5</td>\n",
       "      <td>2022</td>\n",
       "      <td>19</td>\n",
       "      <td>20</td>\n",
       "    </tr>\n",
       "  </tbody>\n",
       "</table>\n",
       "</div>"
      ],
      "text/plain": [
       "                         date  weekdayno weekdayname  monthno  year  Date  \\\n",
       "0  2022-06-02 21:20:35.352211          3    Thursday        6  2022     2   \n",
       "1  2022-06-01 21:20:35.352211          2   Wednesday        6  2022     1   \n",
       "2  2022-05-31 21:20:35.352211          1     Tuesday        5  2022    31   \n",
       "3  2022-05-30 21:20:35.352211          0      Monday        5  2022    30   \n",
       "4  2022-05-29 21:20:35.352211          6      Sunday        5  2022    29   \n",
       "5  2022-05-28 21:20:35.352211          5    Saturday        5  2022    28   \n",
       "6  2022-05-27 21:20:35.352211          4      Friday        5  2022    27   \n",
       "7  2022-05-26 21:20:35.352211          3    Thursday        5  2022    26   \n",
       "8  2022-05-25 21:20:35.352211          2   Wednesday        5  2022    25   \n",
       "9  2022-05-24 21:20:35.352211          1     Tuesday        5  2022    24   \n",
       "10 2022-05-23 21:20:35.352211          0      Monday        5  2022    23   \n",
       "11 2022-05-22 21:20:35.352211          6      Sunday        5  2022    22   \n",
       "12 2022-05-21 21:20:35.352211          5    Saturday        5  2022    21   \n",
       "13 2022-05-20 21:20:35.352211          4      Friday        5  2022    20   \n",
       "14 2022-05-19 21:20:35.352211          3    Thursday        5  2022    19   \n",
       "\n",
       "    weekofyear  \n",
       "0           22  \n",
       "1           22  \n",
       "2           22  \n",
       "3           22  \n",
       "4           21  \n",
       "5           21  \n",
       "6           21  \n",
       "7           21  \n",
       "8           21  \n",
       "9           21  \n",
       "10          21  \n",
       "11          20  \n",
       "12          20  \n",
       "13          20  \n",
       "14          20  "
      ]
     },
     "execution_count": 90,
     "metadata": {},
     "output_type": "execute_result"
    }
   ],
   "source": [
    "df\n"
   ]
  },
  {
   "cell_type": "code",
   "execution_count": 92,
   "id": "18553bd5",
   "metadata": {},
   "outputs": [
    {
     "data": {
      "text/plain": [
       "pandas.core.series.Series"
      ]
     },
     "execution_count": 92,
     "metadata": {},
     "output_type": "execute_result"
    }
   ],
   "source": [
    "type(df['date'])"
   ]
  },
  {
   "cell_type": "code",
   "execution_count": 93,
   "id": "4b7b7c98",
   "metadata": {},
   "outputs": [
    {
     "data": {
      "text/plain": [
       "0    2022-06-02 21:20:35.352211\n",
       "1    2022-06-01 21:20:35.352211\n",
       "2    2022-05-31 21:20:35.352211\n",
       "3    2022-05-30 21:20:35.352211\n",
       "4    2022-05-29 21:20:35.352211\n",
       "5    2022-05-28 21:20:35.352211\n",
       "6    2022-05-27 21:20:35.352211\n",
       "7    2022-05-26 21:20:35.352211\n",
       "8    2022-05-25 21:20:35.352211\n",
       "9    2022-05-24 21:20:35.352211\n",
       "10   2022-05-23 21:20:35.352211\n",
       "11   2022-05-22 21:20:35.352211\n",
       "12   2022-05-21 21:20:35.352211\n",
       "13   2022-05-20 21:20:35.352211\n",
       "14   2022-05-19 21:20:35.352211\n",
       "Name: date, dtype: datetime64[ns]"
      ]
     },
     "execution_count": 93,
     "metadata": {},
     "output_type": "execute_result"
    }
   ],
   "source": [
    "df['date']"
   ]
  },
  {
   "cell_type": "code",
   "execution_count": 95,
   "id": "d5ebf3d5",
   "metadata": {},
   "outputs": [
    {
     "data": {
      "text/plain": [
       "0     21\n",
       "1     21\n",
       "2     21\n",
       "3     21\n",
       "4     21\n",
       "5     21\n",
       "6     21\n",
       "7     21\n",
       "8     21\n",
       "9     21\n",
       "10    21\n",
       "11    21\n",
       "12    21\n",
       "13    21\n",
       "14    21\n",
       "Name: date, dtype: int64"
      ]
     },
     "execution_count": 95,
     "metadata": {},
     "output_type": "execute_result"
    }
   ],
   "source": [
    "df['date'].dt.hour"
   ]
  },
  {
   "cell_type": "code",
   "execution_count": 106,
   "id": "0c40bc4f",
   "metadata": {},
   "outputs": [],
   "source": [
    "df1 = df.copy()"
   ]
  },
  {
   "cell_type": "code",
   "execution_count": 109,
   "id": "60032826",
   "metadata": {},
   "outputs": [
    {
     "data": {
      "text/html": [
       "<div>\n",
       "<style scoped>\n",
       "    .dataframe tbody tr th:only-of-type {\n",
       "        vertical-align: middle;\n",
       "    }\n",
       "\n",
       "    .dataframe tbody tr th {\n",
       "        vertical-align: top;\n",
       "    }\n",
       "\n",
       "    .dataframe thead th {\n",
       "        text-align: right;\n",
       "    }\n",
       "</style>\n",
       "<table border=\"1\" class=\"dataframe\">\n",
       "  <thead>\n",
       "    <tr style=\"text-align: right;\">\n",
       "      <th></th>\n",
       "      <th>date</th>\n",
       "      <th>weekdayno</th>\n",
       "      <th>weekdayname</th>\n",
       "      <th>monthno</th>\n",
       "      <th>year</th>\n",
       "      <th>Date</th>\n",
       "      <th>weekofyear</th>\n",
       "    </tr>\n",
       "  </thead>\n",
       "  <tbody>\n",
       "    <tr>\n",
       "      <th>0</th>\n",
       "      <td>2022-06-02 21:20:35.352211</td>\n",
       "      <td>3</td>\n",
       "      <td>Thursday</td>\n",
       "      <td>6</td>\n",
       "      <td>2022</td>\n",
       "      <td>2</td>\n",
       "      <td>22</td>\n",
       "    </tr>\n",
       "    <tr>\n",
       "      <th>1</th>\n",
       "      <td>2022-06-01 21:20:35.352211</td>\n",
       "      <td>2</td>\n",
       "      <td>Wednesday</td>\n",
       "      <td>6</td>\n",
       "      <td>2022</td>\n",
       "      <td>1</td>\n",
       "      <td>22</td>\n",
       "    </tr>\n",
       "    <tr>\n",
       "      <th>2</th>\n",
       "      <td>2022-05-31 21:20:35.352211</td>\n",
       "      <td>1</td>\n",
       "      <td>Tuesday</td>\n",
       "      <td>5</td>\n",
       "      <td>2022</td>\n",
       "      <td>31</td>\n",
       "      <td>22</td>\n",
       "    </tr>\n",
       "    <tr>\n",
       "      <th>3</th>\n",
       "      <td>2022-05-30 21:20:35.352211</td>\n",
       "      <td>0</td>\n",
       "      <td>Monday</td>\n",
       "      <td>5</td>\n",
       "      <td>2022</td>\n",
       "      <td>30</td>\n",
       "      <td>22</td>\n",
       "    </tr>\n",
       "    <tr>\n",
       "      <th>4</th>\n",
       "      <td>2022-05-29 21:20:35.352211</td>\n",
       "      <td>6</td>\n",
       "      <td>Sunday</td>\n",
       "      <td>5</td>\n",
       "      <td>2022</td>\n",
       "      <td>29</td>\n",
       "      <td>21</td>\n",
       "    </tr>\n",
       "    <tr>\n",
       "      <th>5</th>\n",
       "      <td>2022-05-28 21:20:35.352211</td>\n",
       "      <td>5</td>\n",
       "      <td>Saturday</td>\n",
       "      <td>5</td>\n",
       "      <td>2022</td>\n",
       "      <td>28</td>\n",
       "      <td>21</td>\n",
       "    </tr>\n",
       "    <tr>\n",
       "      <th>6</th>\n",
       "      <td>2022-05-27 21:20:35.352211</td>\n",
       "      <td>4</td>\n",
       "      <td>Friday</td>\n",
       "      <td>5</td>\n",
       "      <td>2022</td>\n",
       "      <td>27</td>\n",
       "      <td>21</td>\n",
       "    </tr>\n",
       "    <tr>\n",
       "      <th>7</th>\n",
       "      <td>2022-05-26 21:20:35.352211</td>\n",
       "      <td>3</td>\n",
       "      <td>Thursday</td>\n",
       "      <td>5</td>\n",
       "      <td>2022</td>\n",
       "      <td>26</td>\n",
       "      <td>21</td>\n",
       "    </tr>\n",
       "    <tr>\n",
       "      <th>8</th>\n",
       "      <td>2022-05-25 21:20:35.352211</td>\n",
       "      <td>2</td>\n",
       "      <td>Wednesday</td>\n",
       "      <td>5</td>\n",
       "      <td>2022</td>\n",
       "      <td>25</td>\n",
       "      <td>21</td>\n",
       "    </tr>\n",
       "    <tr>\n",
       "      <th>9</th>\n",
       "      <td>2022-05-24 21:20:35.352211</td>\n",
       "      <td>1</td>\n",
       "      <td>Tuesday</td>\n",
       "      <td>5</td>\n",
       "      <td>2022</td>\n",
       "      <td>24</td>\n",
       "      <td>21</td>\n",
       "    </tr>\n",
       "    <tr>\n",
       "      <th>10</th>\n",
       "      <td>2022-05-23 21:20:35.352211</td>\n",
       "      <td>0</td>\n",
       "      <td>Monday</td>\n",
       "      <td>5</td>\n",
       "      <td>2022</td>\n",
       "      <td>23</td>\n",
       "      <td>21</td>\n",
       "    </tr>\n",
       "    <tr>\n",
       "      <th>11</th>\n",
       "      <td>2022-05-22 21:20:35.352211</td>\n",
       "      <td>6</td>\n",
       "      <td>Sunday</td>\n",
       "      <td>5</td>\n",
       "      <td>2022</td>\n",
       "      <td>22</td>\n",
       "      <td>20</td>\n",
       "    </tr>\n",
       "    <tr>\n",
       "      <th>12</th>\n",
       "      <td>2022-05-21 21:20:35.352211</td>\n",
       "      <td>5</td>\n",
       "      <td>Saturday</td>\n",
       "      <td>5</td>\n",
       "      <td>2022</td>\n",
       "      <td>21</td>\n",
       "      <td>20</td>\n",
       "    </tr>\n",
       "    <tr>\n",
       "      <th>13</th>\n",
       "      <td>2022-05-20 21:20:35.352211</td>\n",
       "      <td>4</td>\n",
       "      <td>Friday</td>\n",
       "      <td>5</td>\n",
       "      <td>2022</td>\n",
       "      <td>20</td>\n",
       "      <td>20</td>\n",
       "    </tr>\n",
       "    <tr>\n",
       "      <th>14</th>\n",
       "      <td>2022-05-19 21:20:35.352211</td>\n",
       "      <td>3</td>\n",
       "      <td>Thursday</td>\n",
       "      <td>5</td>\n",
       "      <td>2022</td>\n",
       "      <td>19</td>\n",
       "      <td>20</td>\n",
       "    </tr>\n",
       "  </tbody>\n",
       "</table>\n",
       "</div>"
      ],
      "text/plain": [
       "                         date  weekdayno weekdayname  monthno  year  Date  \\\n",
       "0  2022-06-02 21:20:35.352211          3    Thursday        6  2022     2   \n",
       "1  2022-06-01 21:20:35.352211          2   Wednesday        6  2022     1   \n",
       "2  2022-05-31 21:20:35.352211          1     Tuesday        5  2022    31   \n",
       "3  2022-05-30 21:20:35.352211          0      Monday        5  2022    30   \n",
       "4  2022-05-29 21:20:35.352211          6      Sunday        5  2022    29   \n",
       "5  2022-05-28 21:20:35.352211          5    Saturday        5  2022    28   \n",
       "6  2022-05-27 21:20:35.352211          4      Friday        5  2022    27   \n",
       "7  2022-05-26 21:20:35.352211          3    Thursday        5  2022    26   \n",
       "8  2022-05-25 21:20:35.352211          2   Wednesday        5  2022    25   \n",
       "9  2022-05-24 21:20:35.352211          1     Tuesday        5  2022    24   \n",
       "10 2022-05-23 21:20:35.352211          0      Monday        5  2022    23   \n",
       "11 2022-05-22 21:20:35.352211          6      Sunday        5  2022    22   \n",
       "12 2022-05-21 21:20:35.352211          5    Saturday        5  2022    21   \n",
       "13 2022-05-20 21:20:35.352211          4      Friday        5  2022    20   \n",
       "14 2022-05-19 21:20:35.352211          3    Thursday        5  2022    19   \n",
       "\n",
       "    weekofyear  \n",
       "0           22  \n",
       "1           22  \n",
       "2           22  \n",
       "3           22  \n",
       "4           21  \n",
       "5           21  \n",
       "6           21  \n",
       "7           21  \n",
       "8           21  \n",
       "9           21  \n",
       "10          21  \n",
       "11          20  \n",
       "12          20  \n",
       "13          20  \n",
       "14          20  "
      ]
     },
     "execution_count": 109,
     "metadata": {},
     "output_type": "execute_result"
    }
   ],
   "source": [
    "df1"
   ]
  },
  {
   "cell_type": "code",
   "execution_count": 110,
   "id": "d17e866a",
   "metadata": {},
   "outputs": [
    {
     "data": {
      "text/html": [
       "<div>\n",
       "<style scoped>\n",
       "    .dataframe tbody tr th:only-of-type {\n",
       "        vertical-align: middle;\n",
       "    }\n",
       "\n",
       "    .dataframe tbody tr th {\n",
       "        vertical-align: top;\n",
       "    }\n",
       "\n",
       "    .dataframe thead th {\n",
       "        text-align: right;\n",
       "    }\n",
       "</style>\n",
       "<table border=\"1\" class=\"dataframe\">\n",
       "  <thead>\n",
       "    <tr style=\"text-align: right;\">\n",
       "      <th></th>\n",
       "      <th>date</th>\n",
       "      <th>weekdayno</th>\n",
       "      <th>weekdayname</th>\n",
       "      <th>monthno</th>\n",
       "      <th>year</th>\n",
       "      <th>Date</th>\n",
       "      <th>weekofyear</th>\n",
       "    </tr>\n",
       "  </thead>\n",
       "  <tbody>\n",
       "    <tr>\n",
       "      <th>14</th>\n",
       "      <td>2022-05-19 21:20:35.352211</td>\n",
       "      <td>3</td>\n",
       "      <td>Thursday</td>\n",
       "      <td>5</td>\n",
       "      <td>2022</td>\n",
       "      <td>19</td>\n",
       "      <td>20</td>\n",
       "    </tr>\n",
       "    <tr>\n",
       "      <th>13</th>\n",
       "      <td>2022-05-20 21:20:35.352211</td>\n",
       "      <td>4</td>\n",
       "      <td>Friday</td>\n",
       "      <td>5</td>\n",
       "      <td>2022</td>\n",
       "      <td>20</td>\n",
       "      <td>20</td>\n",
       "    </tr>\n",
       "    <tr>\n",
       "      <th>12</th>\n",
       "      <td>2022-05-21 21:20:35.352211</td>\n",
       "      <td>5</td>\n",
       "      <td>Saturday</td>\n",
       "      <td>5</td>\n",
       "      <td>2022</td>\n",
       "      <td>21</td>\n",
       "      <td>20</td>\n",
       "    </tr>\n",
       "    <tr>\n",
       "      <th>11</th>\n",
       "      <td>2022-05-22 21:20:35.352211</td>\n",
       "      <td>6</td>\n",
       "      <td>Sunday</td>\n",
       "      <td>5</td>\n",
       "      <td>2022</td>\n",
       "      <td>22</td>\n",
       "      <td>20</td>\n",
       "    </tr>\n",
       "    <tr>\n",
       "      <th>10</th>\n",
       "      <td>2022-05-23 21:20:35.352211</td>\n",
       "      <td>0</td>\n",
       "      <td>Monday</td>\n",
       "      <td>5</td>\n",
       "      <td>2022</td>\n",
       "      <td>23</td>\n",
       "      <td>21</td>\n",
       "    </tr>\n",
       "    <tr>\n",
       "      <th>9</th>\n",
       "      <td>2022-05-24 21:20:35.352211</td>\n",
       "      <td>1</td>\n",
       "      <td>Tuesday</td>\n",
       "      <td>5</td>\n",
       "      <td>2022</td>\n",
       "      <td>24</td>\n",
       "      <td>21</td>\n",
       "    </tr>\n",
       "    <tr>\n",
       "      <th>8</th>\n",
       "      <td>2022-05-25 21:20:35.352211</td>\n",
       "      <td>2</td>\n",
       "      <td>Wednesday</td>\n",
       "      <td>5</td>\n",
       "      <td>2022</td>\n",
       "      <td>25</td>\n",
       "      <td>21</td>\n",
       "    </tr>\n",
       "    <tr>\n",
       "      <th>7</th>\n",
       "      <td>2022-05-26 21:20:35.352211</td>\n",
       "      <td>3</td>\n",
       "      <td>Thursday</td>\n",
       "      <td>5</td>\n",
       "      <td>2022</td>\n",
       "      <td>26</td>\n",
       "      <td>21</td>\n",
       "    </tr>\n",
       "    <tr>\n",
       "      <th>6</th>\n",
       "      <td>2022-05-27 21:20:35.352211</td>\n",
       "      <td>4</td>\n",
       "      <td>Friday</td>\n",
       "      <td>5</td>\n",
       "      <td>2022</td>\n",
       "      <td>27</td>\n",
       "      <td>21</td>\n",
       "    </tr>\n",
       "    <tr>\n",
       "      <th>5</th>\n",
       "      <td>2022-05-28 21:20:35.352211</td>\n",
       "      <td>5</td>\n",
       "      <td>Saturday</td>\n",
       "      <td>5</td>\n",
       "      <td>2022</td>\n",
       "      <td>28</td>\n",
       "      <td>21</td>\n",
       "    </tr>\n",
       "    <tr>\n",
       "      <th>4</th>\n",
       "      <td>2022-05-29 21:20:35.352211</td>\n",
       "      <td>6</td>\n",
       "      <td>Sunday</td>\n",
       "      <td>5</td>\n",
       "      <td>2022</td>\n",
       "      <td>29</td>\n",
       "      <td>21</td>\n",
       "    </tr>\n",
       "    <tr>\n",
       "      <th>3</th>\n",
       "      <td>2022-05-30 21:20:35.352211</td>\n",
       "      <td>0</td>\n",
       "      <td>Monday</td>\n",
       "      <td>5</td>\n",
       "      <td>2022</td>\n",
       "      <td>30</td>\n",
       "      <td>22</td>\n",
       "    </tr>\n",
       "    <tr>\n",
       "      <th>2</th>\n",
       "      <td>2022-05-31 21:20:35.352211</td>\n",
       "      <td>1</td>\n",
       "      <td>Tuesday</td>\n",
       "      <td>5</td>\n",
       "      <td>2022</td>\n",
       "      <td>31</td>\n",
       "      <td>22</td>\n",
       "    </tr>\n",
       "    <tr>\n",
       "      <th>1</th>\n",
       "      <td>2022-06-01 21:20:35.352211</td>\n",
       "      <td>2</td>\n",
       "      <td>Wednesday</td>\n",
       "      <td>6</td>\n",
       "      <td>2022</td>\n",
       "      <td>1</td>\n",
       "      <td>22</td>\n",
       "    </tr>\n",
       "    <tr>\n",
       "      <th>0</th>\n",
       "      <td>2022-06-02 21:20:35.352211</td>\n",
       "      <td>3</td>\n",
       "      <td>Thursday</td>\n",
       "      <td>6</td>\n",
       "      <td>2022</td>\n",
       "      <td>2</td>\n",
       "      <td>22</td>\n",
       "    </tr>\n",
       "  </tbody>\n",
       "</table>\n",
       "</div>"
      ],
      "text/plain": [
       "                         date  weekdayno weekdayname  monthno  year  Date  \\\n",
       "14 2022-05-19 21:20:35.352211          3    Thursday        5  2022    19   \n",
       "13 2022-05-20 21:20:35.352211          4      Friday        5  2022    20   \n",
       "12 2022-05-21 21:20:35.352211          5    Saturday        5  2022    21   \n",
       "11 2022-05-22 21:20:35.352211          6      Sunday        5  2022    22   \n",
       "10 2022-05-23 21:20:35.352211          0      Monday        5  2022    23   \n",
       "9  2022-05-24 21:20:35.352211          1     Tuesday        5  2022    24   \n",
       "8  2022-05-25 21:20:35.352211          2   Wednesday        5  2022    25   \n",
       "7  2022-05-26 21:20:35.352211          3    Thursday        5  2022    26   \n",
       "6  2022-05-27 21:20:35.352211          4      Friday        5  2022    27   \n",
       "5  2022-05-28 21:20:35.352211          5    Saturday        5  2022    28   \n",
       "4  2022-05-29 21:20:35.352211          6      Sunday        5  2022    29   \n",
       "3  2022-05-30 21:20:35.352211          0      Monday        5  2022    30   \n",
       "2  2022-05-31 21:20:35.352211          1     Tuesday        5  2022    31   \n",
       "1  2022-06-01 21:20:35.352211          2   Wednesday        6  2022     1   \n",
       "0  2022-06-02 21:20:35.352211          3    Thursday        6  2022     2   \n",
       "\n",
       "    weekofyear  \n",
       "14          20  \n",
       "13          20  \n",
       "12          20  \n",
       "11          20  \n",
       "10          21  \n",
       "9           21  \n",
       "8           21  \n",
       "7           21  \n",
       "6           21  \n",
       "5           21  \n",
       "4           21  \n",
       "3           22  \n",
       "2           22  \n",
       "1           22  \n",
       "0           22  "
      ]
     },
     "execution_count": 110,
     "metadata": {},
     "output_type": "execute_result"
    }
   ],
   "source": [
    "df1.sort_values('date')"
   ]
  },
  {
   "cell_type": "code",
   "execution_count": 111,
   "id": "68bc475a",
   "metadata": {},
   "outputs": [],
   "source": [
    "df1 = df1.sort_values('date')"
   ]
  },
  {
   "cell_type": "code",
   "execution_count": 112,
   "id": "24b78cb4",
   "metadata": {},
   "outputs": [
    {
     "data": {
      "text/html": [
       "<div>\n",
       "<style scoped>\n",
       "    .dataframe tbody tr th:only-of-type {\n",
       "        vertical-align: middle;\n",
       "    }\n",
       "\n",
       "    .dataframe tbody tr th {\n",
       "        vertical-align: top;\n",
       "    }\n",
       "\n",
       "    .dataframe thead th {\n",
       "        text-align: right;\n",
       "    }\n",
       "</style>\n",
       "<table border=\"1\" class=\"dataframe\">\n",
       "  <thead>\n",
       "    <tr style=\"text-align: right;\">\n",
       "      <th></th>\n",
       "      <th>weekdayno</th>\n",
       "      <th>weekdayname</th>\n",
       "      <th>monthno</th>\n",
       "      <th>year</th>\n",
       "      <th>Date</th>\n",
       "      <th>weekofyear</th>\n",
       "    </tr>\n",
       "    <tr>\n",
       "      <th>date</th>\n",
       "      <th></th>\n",
       "      <th></th>\n",
       "      <th></th>\n",
       "      <th></th>\n",
       "      <th></th>\n",
       "      <th></th>\n",
       "    </tr>\n",
       "  </thead>\n",
       "  <tbody>\n",
       "    <tr>\n",
       "      <th>2022-05-19 21:20:35.352211</th>\n",
       "      <td>3</td>\n",
       "      <td>Thursday</td>\n",
       "      <td>5</td>\n",
       "      <td>2022</td>\n",
       "      <td>19</td>\n",
       "      <td>20</td>\n",
       "    </tr>\n",
       "    <tr>\n",
       "      <th>2022-05-20 21:20:35.352211</th>\n",
       "      <td>4</td>\n",
       "      <td>Friday</td>\n",
       "      <td>5</td>\n",
       "      <td>2022</td>\n",
       "      <td>20</td>\n",
       "      <td>20</td>\n",
       "    </tr>\n",
       "    <tr>\n",
       "      <th>2022-05-21 21:20:35.352211</th>\n",
       "      <td>5</td>\n",
       "      <td>Saturday</td>\n",
       "      <td>5</td>\n",
       "      <td>2022</td>\n",
       "      <td>21</td>\n",
       "      <td>20</td>\n",
       "    </tr>\n",
       "    <tr>\n",
       "      <th>2022-05-22 21:20:35.352211</th>\n",
       "      <td>6</td>\n",
       "      <td>Sunday</td>\n",
       "      <td>5</td>\n",
       "      <td>2022</td>\n",
       "      <td>22</td>\n",
       "      <td>20</td>\n",
       "    </tr>\n",
       "    <tr>\n",
       "      <th>2022-05-23 21:20:35.352211</th>\n",
       "      <td>0</td>\n",
       "      <td>Monday</td>\n",
       "      <td>5</td>\n",
       "      <td>2022</td>\n",
       "      <td>23</td>\n",
       "      <td>21</td>\n",
       "    </tr>\n",
       "    <tr>\n",
       "      <th>2022-05-24 21:20:35.352211</th>\n",
       "      <td>1</td>\n",
       "      <td>Tuesday</td>\n",
       "      <td>5</td>\n",
       "      <td>2022</td>\n",
       "      <td>24</td>\n",
       "      <td>21</td>\n",
       "    </tr>\n",
       "    <tr>\n",
       "      <th>2022-05-25 21:20:35.352211</th>\n",
       "      <td>2</td>\n",
       "      <td>Wednesday</td>\n",
       "      <td>5</td>\n",
       "      <td>2022</td>\n",
       "      <td>25</td>\n",
       "      <td>21</td>\n",
       "    </tr>\n",
       "    <tr>\n",
       "      <th>2022-05-26 21:20:35.352211</th>\n",
       "      <td>3</td>\n",
       "      <td>Thursday</td>\n",
       "      <td>5</td>\n",
       "      <td>2022</td>\n",
       "      <td>26</td>\n",
       "      <td>21</td>\n",
       "    </tr>\n",
       "    <tr>\n",
       "      <th>2022-05-27 21:20:35.352211</th>\n",
       "      <td>4</td>\n",
       "      <td>Friday</td>\n",
       "      <td>5</td>\n",
       "      <td>2022</td>\n",
       "      <td>27</td>\n",
       "      <td>21</td>\n",
       "    </tr>\n",
       "    <tr>\n",
       "      <th>2022-05-28 21:20:35.352211</th>\n",
       "      <td>5</td>\n",
       "      <td>Saturday</td>\n",
       "      <td>5</td>\n",
       "      <td>2022</td>\n",
       "      <td>28</td>\n",
       "      <td>21</td>\n",
       "    </tr>\n",
       "    <tr>\n",
       "      <th>2022-05-29 21:20:35.352211</th>\n",
       "      <td>6</td>\n",
       "      <td>Sunday</td>\n",
       "      <td>5</td>\n",
       "      <td>2022</td>\n",
       "      <td>29</td>\n",
       "      <td>21</td>\n",
       "    </tr>\n",
       "    <tr>\n",
       "      <th>2022-05-30 21:20:35.352211</th>\n",
       "      <td>0</td>\n",
       "      <td>Monday</td>\n",
       "      <td>5</td>\n",
       "      <td>2022</td>\n",
       "      <td>30</td>\n",
       "      <td>22</td>\n",
       "    </tr>\n",
       "    <tr>\n",
       "      <th>2022-05-31 21:20:35.352211</th>\n",
       "      <td>1</td>\n",
       "      <td>Tuesday</td>\n",
       "      <td>5</td>\n",
       "      <td>2022</td>\n",
       "      <td>31</td>\n",
       "      <td>22</td>\n",
       "    </tr>\n",
       "    <tr>\n",
       "      <th>2022-06-01 21:20:35.352211</th>\n",
       "      <td>2</td>\n",
       "      <td>Wednesday</td>\n",
       "      <td>6</td>\n",
       "      <td>2022</td>\n",
       "      <td>1</td>\n",
       "      <td>22</td>\n",
       "    </tr>\n",
       "    <tr>\n",
       "      <th>2022-06-02 21:20:35.352211</th>\n",
       "      <td>3</td>\n",
       "      <td>Thursday</td>\n",
       "      <td>6</td>\n",
       "      <td>2022</td>\n",
       "      <td>2</td>\n",
       "      <td>22</td>\n",
       "    </tr>\n",
       "  </tbody>\n",
       "</table>\n",
       "</div>"
      ],
      "text/plain": [
       "                            weekdayno weekdayname  monthno  year  Date  \\\n",
       "date                                                                     \n",
       "2022-05-19 21:20:35.352211          3    Thursday        5  2022    19   \n",
       "2022-05-20 21:20:35.352211          4      Friday        5  2022    20   \n",
       "2022-05-21 21:20:35.352211          5    Saturday        5  2022    21   \n",
       "2022-05-22 21:20:35.352211          6      Sunday        5  2022    22   \n",
       "2022-05-23 21:20:35.352211          0      Monday        5  2022    23   \n",
       "2022-05-24 21:20:35.352211          1     Tuesday        5  2022    24   \n",
       "2022-05-25 21:20:35.352211          2   Wednesday        5  2022    25   \n",
       "2022-05-26 21:20:35.352211          3    Thursday        5  2022    26   \n",
       "2022-05-27 21:20:35.352211          4      Friday        5  2022    27   \n",
       "2022-05-28 21:20:35.352211          5    Saturday        5  2022    28   \n",
       "2022-05-29 21:20:35.352211          6      Sunday        5  2022    29   \n",
       "2022-05-30 21:20:35.352211          0      Monday        5  2022    30   \n",
       "2022-05-31 21:20:35.352211          1     Tuesday        5  2022    31   \n",
       "2022-06-01 21:20:35.352211          2   Wednesday        6  2022     1   \n",
       "2022-06-02 21:20:35.352211          3    Thursday        6  2022     2   \n",
       "\n",
       "                            weekofyear  \n",
       "date                                    \n",
       "2022-05-19 21:20:35.352211          20  \n",
       "2022-05-20 21:20:35.352211          20  \n",
       "2022-05-21 21:20:35.352211          20  \n",
       "2022-05-22 21:20:35.352211          20  \n",
       "2022-05-23 21:20:35.352211          21  \n",
       "2022-05-24 21:20:35.352211          21  \n",
       "2022-05-25 21:20:35.352211          21  \n",
       "2022-05-26 21:20:35.352211          21  \n",
       "2022-05-27 21:20:35.352211          21  \n",
       "2022-05-28 21:20:35.352211          21  \n",
       "2022-05-29 21:20:35.352211          21  \n",
       "2022-05-30 21:20:35.352211          22  \n",
       "2022-05-31 21:20:35.352211          22  \n",
       "2022-06-01 21:20:35.352211          22  \n",
       "2022-06-02 21:20:35.352211          22  "
      ]
     },
     "execution_count": 112,
     "metadata": {},
     "output_type": "execute_result"
    }
   ],
   "source": [
    "df2 = df1.set_index('date')\n",
    "df2"
   ]
  },
  {
   "cell_type": "code",
   "execution_count": 139,
   "id": "6f45581c",
   "metadata": {
    "scrolled": true
   },
   "outputs": [
    {
     "data": {
      "text/plain": [
       "date\n",
       "2022-05-19 21:20:35.352211     3.0\n",
       "2022-05-20 21:20:35.352211     7.0\n",
       "2022-05-21 21:20:35.352211    12.0\n",
       "2022-05-22 21:20:35.352211    18.0\n",
       "2022-05-23 21:20:35.352211    15.0\n",
       "2022-05-24 21:20:35.352211    12.0\n",
       "2022-05-25 21:20:35.352211     9.0\n",
       "2022-05-26 21:20:35.352211     6.0\n",
       "2022-05-27 21:20:35.352211    10.0\n",
       "2022-05-28 21:20:35.352211    14.0\n",
       "2022-05-29 21:20:35.352211    18.0\n",
       "2022-05-30 21:20:35.352211    15.0\n",
       "2022-05-31 21:20:35.352211    12.0\n",
       "2022-06-01 21:20:35.352211     9.0\n",
       "2022-06-02 21:20:35.352211     6.0\n",
       "Name: weekdayno, dtype: float64"
      ]
     },
     "execution_count": 139,
     "metadata": {},
     "output_type": "execute_result"
    }
   ],
   "source": [
    "df2['weekdayno'].rolling('4d').sum()"
   ]
  },
  {
   "cell_type": "code",
   "execution_count": 140,
   "id": "5dcd727e",
   "metadata": {},
   "outputs": [
    {
     "data": {
      "text/plain": [
       "date\n",
       "2022-05-19 21:20:35.352211    1.0\n",
       "2022-05-20 21:20:35.352211    2.0\n",
       "2022-05-21 21:20:35.352211    3.0\n",
       "2022-05-22 21:20:35.352211    4.0\n",
       "2022-05-23 21:20:35.352211    4.0\n",
       "2022-05-24 21:20:35.352211    4.0\n",
       "2022-05-25 21:20:35.352211    4.0\n",
       "2022-05-26 21:20:35.352211    4.0\n",
       "2022-05-27 21:20:35.352211    4.0\n",
       "2022-05-28 21:20:35.352211    4.0\n",
       "2022-05-29 21:20:35.352211    4.0\n",
       "2022-05-30 21:20:35.352211    4.0\n",
       "2022-05-31 21:20:35.352211    4.0\n",
       "2022-06-01 21:20:35.352211    4.0\n",
       "2022-06-02 21:20:35.352211    4.0\n",
       "Name: weekdayno, dtype: float64"
      ]
     },
     "execution_count": 140,
     "metadata": {},
     "output_type": "execute_result"
    }
   ],
   "source": [
    "df2['weekdayno'].rolling('4d').count()"
   ]
  },
  {
   "cell_type": "code",
   "execution_count": null,
   "id": "138436cf",
   "metadata": {},
   "outputs": [],
   "source": []
  }
 ],
 "metadata": {
  "kernelspec": {
   "display_name": "Python 3 (ipykernel)",
   "language": "python",
   "name": "python3"
  },
  "language_info": {
   "codemirror_mode": {
    "name": "ipython",
    "version": 3
   },
   "file_extension": ".py",
   "mimetype": "text/x-python",
   "name": "python",
   "nbconvert_exporter": "python",
   "pygments_lexer": "ipython3",
   "version": "3.9.7"
  }
 },
 "nbformat": 4,
 "nbformat_minor": 5
}
